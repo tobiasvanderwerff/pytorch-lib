{
 "cells": [
  {
   "cell_type": "code",
   "execution_count": 1,
   "id": "e7ef2995",
   "metadata": {},
   "outputs": [],
   "source": [
    "%load_ext autoreload\n",
    "%autoreload 2"
   ]
  },
  {
   "cell_type": "code",
   "execution_count": 2,
   "id": "e8edd7de",
   "metadata": {},
   "outputs": [],
   "source": [
    "import logging\n",
    "\n",
    "import torch\n",
    "import torch.nn as nn\n",
    "import torch.optim as optim\n",
    "import torchvision\n",
    "import torchvision.transforms as transforms\n",
    "import torchvision.datasets as datasets\n",
    "import torchvision.models as models\n",
    "import numpy as np\n",
    "import matplotlib.pyplot as plt\n",
    "from torch.utils.data import Dataset, DataLoader, Subset"
   ]
  },
  {
   "cell_type": "code",
   "execution_count": 3,
   "id": "22825631",
   "metadata": {},
   "outputs": [],
   "source": [
    "logging.basicConfig(format='%(asctime)s - %(name)s - %(levelname)s - %(message)s',\n",
    "                    datefmt='%d/%m/%Y %H:%M:%S',\n",
    "                    level=logging.INFO)\n",
    "logger = logging.getLogger(__name__)"
   ]
  },
  {
   "cell_type": "code",
   "execution_count": 4,
   "id": "bf763987",
   "metadata": {},
   "outputs": [],
   "source": [
    "device = \"cuda:0\" if torch.cuda.is_available() else \"cpu\""
   ]
  },
  {
   "cell_type": "code",
   "execution_count": 5,
   "id": "d9313788",
   "metadata": {},
   "outputs": [],
   "source": [
    "trnsf = {\n",
    "    'train': transforms.Compose([\n",
    "        transforms.RandomHorizontalFlip(p=0.5),\n",
    "        transforms.ToTensor(),\n",
    "        transforms.Normalize(0.5, 0.5),\n",
    "    ]),\n",
    "    'test': transforms.Compose([\n",
    "        transforms.ToTensor(),\n",
    "        transforms.Normalize(0.5, 0.5),\n",
    "    ])\n",
    "}"
   ]
  },
  {
   "cell_type": "code",
   "execution_count": 6,
   "id": "59825945",
   "metadata": {
    "scrolled": true
   },
   "outputs": [
    {
     "name": "stderr",
     "output_type": "stream",
     "text": [
      "/home/tobias/.local/lib/python3.8/site-packages/torchvision/datasets/mnist.py:498: UserWarning: The given NumPy array is not writeable, and PyTorch does not support non-writeable tensors. This means you can write to the underlying (supposedly non-writeable) NumPy array using the tensor. You may want to copy the array to protect its data or make it writeable before converting it to a tensor. This type of warning will be suppressed for the rest of this program. (Triggered internally at  /pytorch/torch/csrc/utils/tensor_numpy.cpp:180.)\n",
      "  return torch.from_numpy(parsed.astype(m[2], copy=False)).view(*s)\n"
     ]
    }
   ],
   "source": [
    "ds_train = datasets.MNIST(root='.', train=True, transform=trnsf['train'], download=True)\n",
    "ds_train = Subset(ds_train, list(range(80)))\n",
    "\n",
    "ds_eval = datasets.MNIST(root='.', train=False, transform=trnsf['test'], download=True)\n",
    "ds_eval = Subset(ds_eval, list(range(20)))"
   ]
  },
  {
   "cell_type": "code",
   "execution_count": 7,
   "id": "24232f71",
   "metadata": {},
   "outputs": [],
   "source": [
    "def imshow(im: torch.Tensor):\n",
    "    im = im * 0.5 + 0.5\n",
    "    im_np = im.numpy()\n",
    "    im_np = im_np.transpose([1, 2, 0])\n",
    "    plt.axis('off')\n",
    "    plt.imshow(im_np, cmap='gray')"
   ]
  },
  {
   "cell_type": "code",
   "execution_count": 8,
   "id": "b0230bc8",
   "metadata": {},
   "outputs": [
    {
     "name": "stdout",
     "output_type": "stream",
     "text": [
      "target: 1\n"
     ]
    },
    {
     "data": {
      "image/png": "[encoded data removed]",
      "text/plain": [
       "<Figure size 432x288 with 1 Axes>"
      ]
     },
     "metadata": {
      "needs_background": "light"
     },
     "output_type": "display_data"
    }
   ],
   "source": [
    "import random\n",
    "\n",
    "# show a random image\n",
    "idx = random.randint(0, len(ds_train))\n",
    "x = ds_train[idx]\n",
    "\n",
    "imshow(x[0])\n",
    "print(f\"target: {x[1]}\")"
   ]
  },
  {
   "cell_type": "code",
   "execution_count": 9,
   "id": "cae72586",
   "metadata": {},
   "outputs": [],
   "source": [
    "n_classes = len(torch.unique(ds_train.dataset.targets).tolist())"
   ]
  },
  {
   "cell_type": "code",
   "execution_count": 10,
   "id": "d4457d20",
   "metadata": {},
   "outputs": [],
   "source": [
    "model = models.resnet18()\n",
    "model.conv1 = nn.Conv2d(1, 64, kernel_size=(7, 7), stride=(2, 2), padding=(3, 3), bias=False)\n",
    "model.fc = nn.Linear(512, n_classes)\n",
    "model.to(device);"
   ]
  },
  {
   "cell_type": "code",
   "execution_count": 11,
   "id": "d61473dd",
   "metadata": {},
   "outputs": [],
   "source": [
    "from lib.data import LabelSmoothingLoss\n",
    "\n",
    "optimizer = optim.Adam(model.parameters(), lr=0.001)\n",
    "criterion = LabelSmoothingLoss(n_classes, confidence=0.9)"
   ]
  },
  {
   "cell_type": "code",
   "execution_count": 12,
   "id": "a8e19b10",
   "metadata": {},
   "outputs": [
    {
     "name": "stderr",
     "output_type": "stream",
     "text": [
      "29/08/2021 15:19:02 - lib.trainer - INFO - Using Stochastic Weight Averaging (SWA).\n",
      "29/08/2021 15:19:02 - lib.trainer - INFO - Using mixed precision training.\n",
      "/home/tobias/.local/lib/python3.8/site-packages/torch/cuda/amp/grad_scaler.py:115: UserWarning: torch.cuda.amp.GradScaler is enabled, but CUDA is not available.  Disabling.\n",
      "  warnings.warn(\"torch.cuda.amp.GradScaler is enabled, but CUDA is not available.  Disabling.\")\n"
     ]
    }
   ],
   "source": [
    "from lib.trainer import TrainerConfig, Trainer\n",
    "from lib.metrics import AccuracyCallback\n",
    "from lib.callbacks import EarlyStoppingCallback\n",
    "from lib.torch_utils import set_seed\n",
    "\n",
    "set_seed(1337)\n",
    "\n",
    "config = TrainerConfig(\n",
    "    batch_size=32, \n",
    "    max_epochs=20,\n",
    "    use_swa=True,\n",
    ")\n",
    "trainer = Trainer(\n",
    "    config, \n",
    "    model, \n",
    "    optimizer, \n",
    "    ds_train, \n",
    "    ds_eval,\n",
    "    loss_fn=criterion,\n",
    "#     callbacks=[AccuracyCallback(monitor=True), EarlyStoppingCallback(max_epochs_no_change=5)]\n",
    "    callbacks=[AccuracyCallback(monitor=True)]\n",
    ")"
   ]
  },
  {
   "cell_type": "code",
   "execution_count": 13,
   "id": "3f1fcab6",
   "metadata": {
    "scrolled": false
   },
   "outputs": [
    {
     "name": "stderr",
     "output_type": "stream",
     "text": [
      "  0%|          | 0/3 [00:00<?, ?it/s]/home/tobias/.local/lib/python3.8/site-packages/torch/cuda/amp/autocast_mode.py:120: UserWarning: torch.cuda.amp.autocast only affects CUDA ops, but CUDA is not available.  Disabling.\n",
      "  warnings.warn(\"torch.cuda.amp.autocast only affects CUDA ops, but CUDA is not available.  Disabling.\")\n",
      "/home/tobias/.local/lib/python3.8/site-packages/torch/nn/functional.py:718: UserWarning: Named tensors and all their associated APIs are an experimental feature and subject to change. Please do not use them for anything important until they are released as stable. (Triggered internally at  /pytorch/c10/core/TensorImpl.h:1156.)\n",
      "  return torch.max_pool2d(input, kernel_size, stride, padding, dilation, ceil_mode)\n",
      "100%|██████████| 3/3 [00:01<00:00,  1.81it/s]\n",
      "29/08/2021 15:19:05 - lib.trainer - INFO - epoch 0 - train_loss: 2.1169. \n",
      "29/08/2021 15:19:05 - lib.callbacks - INFO - New best score - accuracy: 0.2000\n",
      "29/08/2021 15:19:05 - lib.trainer - INFO - epoch 0 - eval_loss: 2.2354. accuracy: 0.2000. \n",
      "100%|██████████| 3/3 [00:01<00:00,  1.99it/s]\n",
      "29/08/2021 15:19:07 - lib.trainer - INFO - epoch 1 - train_loss: 1.2054. \n",
      "29/08/2021 15:19:07 - lib.callbacks - INFO - New best score - accuracy: 0.4500\n",
      "29/08/2021 15:19:07 - lib.trainer - INFO - epoch 1 - eval_loss: 2.0689. accuracy: 0.4500. \n",
      "100%|██████████| 3/3 [00:01<00:00,  1.74it/s]\n",
      "29/08/2021 15:19:09 - lib.trainer - INFO - epoch 2 - train_loss: 1.2304. \n",
      "29/08/2021 15:19:09 - lib.trainer - INFO - epoch 2 - eval_loss: 1.9651. accuracy: 0.4500. \n",
      "100%|██████████| 3/3 [00:01<00:00,  1.91it/s]\n",
      "29/08/2021 15:19:10 - lib.trainer - INFO - epoch 3 - train_loss: 1.1160. \n",
      "29/08/2021 15:19:10 - lib.callbacks - INFO - New best score - accuracy: 0.5500\n",
      "29/08/2021 15:19:10 - lib.trainer - INFO - epoch 3 - eval_loss: 1.6283. accuracy: 0.5500. \n",
      "100%|██████████| 3/3 [00:01<00:00,  1.81it/s]\n",
      "29/08/2021 15:19:12 - lib.trainer - INFO - epoch 4 - train_loss: 0.9212. \n",
      "29/08/2021 15:19:12 - lib.trainer - INFO - epoch 4 - eval_loss: 1.7383. accuracy: 0.5000. \n",
      "100%|██████████| 3/3 [00:01<00:00,  2.05it/s]\n",
      "29/08/2021 15:19:14 - lib.trainer - INFO - epoch 5 - train_loss: 0.8608. \n",
      "29/08/2021 15:19:14 - lib.trainer - INFO - epoch 5 - eval_loss: 2.0659. accuracy: 0.4500. \n",
      "100%|██████████| 3/3 [00:01<00:00,  2.00it/s]\n",
      "29/08/2021 15:19:15 - lib.trainer - INFO - epoch 6 - train_loss: 0.8221. \n",
      "29/08/2021 15:19:15 - lib.trainer - INFO - epoch 6 - eval_loss: 2.1328. accuracy: 0.5500. \n",
      "100%|██████████| 3/3 [00:01<00:00,  2.00it/s]\n",
      "29/08/2021 15:19:17 - lib.trainer - INFO - epoch 7 - train_loss: 0.8075. \n",
      "29/08/2021 15:19:17 - lib.trainer - INFO - epoch 7 - eval_loss: 1.9094. accuracy: 0.5000. \n",
      "100%|██████████| 3/3 [00:01<00:00,  1.86it/s]\n",
      "29/08/2021 15:19:18 - lib.trainer - INFO - epoch 8 - train_loss: 0.7431. \n",
      "29/08/2021 15:19:19 - lib.trainer - INFO - epoch 8 - eval_loss: 1.5605. accuracy: 0.5000. \n",
      "100%|██████████| 3/3 [00:01<00:00,  1.86it/s]\n",
      "29/08/2021 15:19:20 - lib.trainer - INFO - epoch 9 - train_loss: 0.6794. \n",
      "29/08/2021 15:19:20 - lib.trainer - INFO - epoch 9 - eval_loss: 1.7091. accuracy: 0.5500. \n",
      "100%|██████████| 3/3 [00:01<00:00,  1.73it/s]\n",
      "29/08/2021 15:19:22 - lib.trainer - INFO - epoch 10 - train_loss: 0.6838. \n",
      "29/08/2021 15:19:22 - lib.trainer - INFO - epoch 10 - eval_loss: 1.7318. accuracy: 0.5000. \n",
      "100%|██████████| 3/3 [00:01<00:00,  1.81it/s]\n",
      "29/08/2021 15:19:24 - lib.trainer - INFO - epoch 11 - train_loss: 0.6441. \n",
      "29/08/2021 15:19:24 - lib.trainer - INFO - epoch 11 - eval_loss: 1.6943. accuracy: 0.5500. \n",
      "100%|██████████| 3/3 [00:01<00:00,  2.04it/s]\n",
      "29/08/2021 15:19:25 - lib.trainer - INFO - epoch 12 - train_loss: 0.7171. \n",
      "29/08/2021 15:19:25 - lib.trainer - INFO - epoch 12 - eval_loss: 1.6162. accuracy: 0.5000. \n",
      "100%|██████████| 3/3 [00:01<00:00,  2.07it/s]\n",
      "29/08/2021 15:19:27 - lib.trainer - INFO - epoch 13 - train_loss: 0.6402. \n",
      "29/08/2021 15:19:27 - lib.callbacks - INFO - New best score - accuracy: 0.6000\n",
      "29/08/2021 15:19:27 - lib.trainer - INFO - epoch 13 - eval_loss: 1.5782. accuracy: 0.6000. \n",
      "100%|██████████| 3/3 [00:01<00:00,  2.05it/s]\n",
      "29/08/2021 15:19:28 - lib.trainer - INFO - epoch 14 - train_loss: 0.7190. \n",
      "29/08/2021 15:19:28 - lib.trainer - INFO - epoch 14 - eval_loss: 1.5274. accuracy: 0.5500. \n",
      "  0%|          | 0/3 [00:00<?, ?it/s]29/08/2021 15:19:29 - lib.trainer - INFO - Starting Stochastic Weight Averaging.\n",
      "100%|██████████| 3/3 [00:01<00:00,  1.89it/s]\n",
      "29/08/2021 15:19:30 - lib.trainer - INFO - epoch 15 - train_loss: 0.6271. \n",
      "29/08/2021 15:19:30 - lib.callbacks - INFO - New best score - accuracy: 0.7000\n",
      "29/08/2021 15:19:30 - lib.trainer - INFO - epoch 15 - eval_loss: 1.4007. accuracy: 0.7000. \n",
      "100%|██████████| 3/3 [00:01<00:00,  1.79it/s]\n",
      "29/08/2021 15:19:32 - lib.trainer - INFO - epoch 16 - train_loss: 0.6003. \n",
      "29/08/2021 15:19:32 - lib.trainer - INFO - epoch 16 - eval_loss: 1.3262. accuracy: 0.6500. \n",
      "100%|██████████| 3/3 [00:01<00:00,  1.83it/s]\n",
      "29/08/2021 15:19:34 - lib.trainer - INFO - epoch 17 - train_loss: 0.6157. \n",
      "29/08/2021 15:19:34 - lib.trainer - INFO - epoch 17 - eval_loss: 1.2882. accuracy: 0.6500. \n",
      "100%|██████████| 3/3 [00:01<00:00,  1.86it/s]\n",
      "29/08/2021 15:19:36 - lib.trainer - INFO - epoch 18 - train_loss: 0.5982. \n",
      "29/08/2021 15:19:36 - lib.trainer - INFO - epoch 18 - eval_loss: 1.2682. accuracy: 0.6500. \n",
      "100%|██████████| 3/3 [00:01<00:00,  1.79it/s]\n",
      "29/08/2021 15:19:38 - lib.trainer - INFO - epoch 19 - train_loss: 0.6027. \n",
      "29/08/2021 15:19:38 - lib.trainer - INFO - epoch 19 - eval_loss: 1.2736. accuracy: 0.6500. \n"
     ]
    }
   ],
   "source": [
    "trainer.train()"
   ]
  },
  {
   "cell_type": "code",
   "execution_count": null,
   "id": "96e0e11d",
   "metadata": {},
   "outputs": [],
   "source": []
  }
 ],
 "metadata": {
  "kernelspec": {
   "display_name": "Python 3",
   "language": "python",
   "name": "python3"
  },
  "language_info": {
   "codemirror_mode": {
    "name": "ipython",
    "version": 3
   },
   "file_extension": ".py",
   "mimetype": "text/x-python",
   "name": "python",
   "nbconvert_exporter": "python",
   "pygments_lexer": "ipython3",
   "version": "3.8.10"
  }
 },
 "nbformat": 4,
 "nbformat_minor": 5
}
