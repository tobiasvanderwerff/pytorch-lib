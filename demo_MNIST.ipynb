{
 "cells": [
  {
   "cell_type": "code",
   "execution_count": 1,
   "id": "e7ef2995",
   "metadata": {},
   "outputs": [],
   "source": [
    "%load_ext autoreload\n",
    "%autoreload 2"
   ]
  },
  {
   "cell_type": "code",
   "execution_count": 2,
   "id": "e8edd7de",
   "metadata": {},
   "outputs": [],
   "source": [
    "import logging\n",
    "\n",
    "import torch\n",
    "import torch.nn as nn\n",
    "import torch.optim as optim\n",
    "import torchvision\n",
    "import torchvision.transforms as transforms\n",
    "import torchvision.datasets as datasets\n",
    "import torchvision.models as models\n",
    "import numpy as np\n",
    "import matplotlib.pyplot as plt\n",
    "from torch.utils.data import Dataset, DataLoader, Subset"
   ]
  },
  {
   "cell_type": "code",
   "execution_count": 3,
   "id": "22825631",
   "metadata": {},
   "outputs": [],
   "source": [
    "logging.basicConfig(format='%(asctime)s - %(name)s - %(levelname)s - %(message)s',\n",
    "                    datefmt='%d/%m/%Y %H:%M:%S',\n",
    "                    level=logging.INFO)\n",
    "logger = logging.getLogger(__name__)"
   ]
  },
  {
   "cell_type": "code",
   "execution_count": 4,
   "id": "bf763987",
   "metadata": {},
   "outputs": [],
   "source": [
    "device = \"cuda:0\" if torch.cuda.is_available() else \"cpu\""
   ]
  },
  {
   "cell_type": "code",
   "execution_count": 5,
   "id": "d9313788",
   "metadata": {},
   "outputs": [],
   "source": [
    "trnsf = {\n",
    "    'train': transforms.Compose([\n",
    "        transforms.RandomHorizontalFlip(p=0.5),\n",
    "        transforms.ToTensor(),\n",
    "        transforms.Normalize(0.5, 0.5),\n",
    "    ]),\n",
    "    'test': transforms.Compose([\n",
    "        transforms.ToTensor(),\n",
    "        transforms.Normalize(0.5, 0.5),\n",
    "    ])\n",
    "}"
   ]
  },
  {
   "cell_type": "code",
   "execution_count": 6,
   "id": "59825945",
   "metadata": {
    "scrolled": true
   },
   "outputs": [
    {
     "name": "stderr",
     "output_type": "stream",
     "text": [
      "/home/tobias/.local/lib/python3.8/site-packages/torchvision/datasets/mnist.py:498: UserWarning: The given NumPy array is not writeable, and PyTorch does not support non-writeable tensors. This means you can write to the underlying (supposedly non-writeable) NumPy array using the tensor. You may want to copy the array to protect its data or make it writeable before converting it to a tensor. This type of warning will be suppressed for the rest of this program. (Triggered internally at  /pytorch/torch/csrc/utils/tensor_numpy.cpp:180.)\n",
      "  return torch.from_numpy(parsed.astype(m[2], copy=False)).view(*s)\n"
     ]
    }
   ],
   "source": [
    "ds_train = datasets.MNIST(root='.', train=True, transform=trnsf['train'], download=True)\n",
    "ds_train = Subset(ds_train, list(range(80)))\n",
    "\n",
    "ds_eval = datasets.MNIST(root='.', train=False, transform=trnsf['test'], download=True)\n",
    "ds_eval = Subset(ds_eval, list(range(20)))"
   ]
  },
  {
   "cell_type": "code",
   "execution_count": 7,
   "id": "24232f71",
   "metadata": {},
   "outputs": [],
   "source": [
    "def imshow(im: torch.Tensor):\n",
    "    im = im * 0.5 + 0.5\n",
    "    im_np = im.numpy()\n",
    "    im_np = im_np.transpose([1, 2, 0])\n",
    "    plt.axis('off')\n",
    "    plt.imshow(im_np, cmap='gray')"
   ]
  },
  {
   "cell_type": "code",
   "execution_count": 8,
   "id": "b0230bc8",
   "metadata": {},
   "outputs": [
    {
     "name": "stdout",
     "output_type": "stream",
     "text": [
      "target: 9\n"
     ]
    },
    {
     "data": {
      "image/png": "[encoded data removed]",
      "text/plain": [
       "<Figure size 432x288 with 1 Axes>"
      ]
     },
     "metadata": {
      "needs_background": "light"
     },
     "output_type": "display_data"
    }
   ],
   "source": [
    "import random\n",
    "\n",
    "# show a random image\n",
    "idx = random.randint(0, len(ds_train))\n",
    "x = ds_train[idx]\n",
    "\n",
    "imshow(x[0])\n",
    "print(f\"target: {x[1]}\")"
   ]
  },
  {
   "cell_type": "code",
   "execution_count": 9,
   "id": "cae72586",
   "metadata": {},
   "outputs": [],
   "source": [
    "n_classes = len(torch.unique(ds_train.dataset.targets).tolist())"
   ]
  },
  {
   "cell_type": "code",
   "execution_count": 15,
   "id": "d4457d20",
   "metadata": {},
   "outputs": [],
   "source": [
    "model = models.resnet18()\n",
    "model.conv1 = nn.Conv2d(1, 64, kernel_size=(7, 7), stride=(2, 2), padding=(3, 3), bias=False)\n",
    "model.fc = nn.Linear(512, n_classes)\n",
    "model.to(device);"
   ]
  },
  {
   "cell_type": "code",
   "execution_count": 16,
   "id": "d61473dd",
   "metadata": {},
   "outputs": [],
   "source": [
    "from lib.data import LabelSmoothingLoss\n",
    "\n",
    "optimizer = optim.Adam(model.parameters(), lr=0.001)\n",
    "criterion = LabelSmoothingLoss(n_classes, confidence=0.9)"
   ]
  },
  {
   "cell_type": "code",
   "execution_count": 17,
   "id": "a8e19b10",
   "metadata": {},
   "outputs": [
    {
     "name": "stderr",
     "output_type": "stream",
     "text": [
      "29/08/2021 18:29:47 - lib.callbacks - INFO - Logging to MLFlow tracking server at http://localhost:5000\n",
      "29/08/2021 18:29:47 - lib.trainer - INFO - Using Stochastic Weight Averaging (SWA).\n",
      "29/08/2021 18:29:47 - lib.trainer - INFO - Using mixed precision training.\n",
      "/home/tobias/.local/lib/python3.8/site-packages/torch/cuda/amp/grad_scaler.py:115: UserWarning: torch.cuda.amp.GradScaler is enabled, but CUDA is not available.  Disabling.\n",
      "  warnings.warn(\"torch.cuda.amp.GradScaler is enabled, but CUDA is not available.  Disabling.\")\n"
     ]
    }
   ],
   "source": [
    "from lib.trainer import TrainerConfig, Trainer\n",
    "from lib.metrics import AccuracyCallback\n",
    "from lib.callbacks import EarlyStoppingCallback, MLFlowCallback\n",
    "from lib.torch_utils import set_seed\n",
    "\n",
    "set_seed(1337)\n",
    "\n",
    "config = TrainerConfig(\n",
    "    batch_size=32, \n",
    "    max_epochs=10,\n",
    "    use_swa=True,\n",
    ")\n",
    "trainer = Trainer(\n",
    "    config, \n",
    "    model, \n",
    "    optimizer, \n",
    "    ds_train, \n",
    "    ds_eval,\n",
    "    loss_fn=criterion,\n",
    "#     callbacks=[AccuracyCallback(monitor=True), EarlyStoppingCallback(max_epochs_no_change=5)]\n",
    "    callbacks=[\n",
    "        AccuracyCallback(monitor=True), \n",
    "        MLFlowCallback(experiment_name=\"default\")\n",
    "    ]\n",
    ")"
   ]
  },
  {
   "cell_type": "code",
   "execution_count": 18,
   "id": "3f1fcab6",
   "metadata": {
    "scrolled": false
   },
   "outputs": [
    {
     "name": "stderr",
     "output_type": "stream",
     "text": [
      "100%|██████████| 3/3 [00:01<00:00,  1.80it/s]\n",
      "29/08/2021 18:29:49 - lib.trainer - INFO - epoch 0 - train_loss: 2.0895. \n",
      "29/08/2021 18:29:49 - lib.callbacks - INFO - New best score - accuracy: 0.1500\n",
      "29/08/2021 18:29:49 - lib.trainer - INFO - epoch 0 - eval_loss: 2.2318. accuracy: 0.1500. \n",
      "100%|██████████| 3/3 [00:01<00:00,  1.60it/s]\n",
      "29/08/2021 18:29:51 - lib.trainer - INFO - epoch 1 - train_loss: 1.3667. \n",
      "29/08/2021 18:29:51 - lib.callbacks - INFO - New best score - accuracy: 0.2500\n",
      "29/08/2021 18:29:51 - lib.trainer - INFO - epoch 1 - eval_loss: 2.2039. accuracy: 0.2500. \n",
      "100%|██████████| 3/3 [00:01<00:00,  1.55it/s]\n",
      "29/08/2021 18:29:53 - lib.trainer - INFO - epoch 2 - train_loss: 1.3485. \n",
      "29/08/2021 18:29:53 - lib.callbacks - INFO - New best score - accuracy: 0.5000\n",
      "29/08/2021 18:29:53 - lib.trainer - INFO - epoch 2 - eval_loss: 2.0005. accuracy: 0.5000. \n",
      "100%|██████████| 3/3 [00:02<00:00,  1.49it/s]\n",
      "29/08/2021 18:29:55 - lib.trainer - INFO - epoch 3 - train_loss: 1.0593. \n",
      "29/08/2021 18:29:55 - lib.trainer - INFO - epoch 3 - eval_loss: 1.9552. accuracy: 0.3500. \n",
      "100%|██████████| 3/3 [00:02<00:00,  1.31it/s]\n",
      "29/08/2021 18:29:58 - lib.trainer - INFO - epoch 4 - train_loss: 1.0814. \n",
      "29/08/2021 18:29:58 - lib.trainer - INFO - epoch 4 - eval_loss: 1.9010. accuracy: 0.3500. \n",
      "100%|██████████| 3/3 [00:01<00:00,  1.67it/s]\n",
      "29/08/2021 18:30:00 - lib.trainer - INFO - epoch 5 - train_loss: 0.9264. \n",
      "29/08/2021 18:30:00 - lib.trainer - INFO - epoch 5 - eval_loss: 1.9016. accuracy: 0.3500. \n",
      "100%|██████████| 3/3 [00:01<00:00,  1.98it/s]\n",
      "29/08/2021 18:30:01 - lib.trainer - INFO - epoch 6 - train_loss: 0.7823. \n",
      "29/08/2021 18:30:01 - lib.callbacks - INFO - New best score - accuracy: 0.5500\n",
      "29/08/2021 18:30:01 - lib.trainer - INFO - epoch 6 - eval_loss: 1.5210. accuracy: 0.5500. \n",
      "100%|██████████| 3/3 [00:01<00:00,  2.06it/s]\n",
      "29/08/2021 18:30:03 - lib.trainer - INFO - epoch 7 - train_loss: 0.6977. \n",
      "29/08/2021 18:30:03 - lib.callbacks - INFO - New best score - accuracy: 0.6000\n",
      "29/08/2021 18:30:03 - lib.trainer - INFO - epoch 7 - eval_loss: 1.3940. accuracy: 0.6000. \n",
      "  0%|          | 0/3 [00:00<?, ?it/s]29/08/2021 18:30:03 - lib.trainer - INFO - Starting Stochastic Weight Averaging.\n",
      "100%|██████████| 3/3 [00:02<00:00,  1.40it/s]\n",
      "29/08/2021 18:30:05 - lib.trainer - INFO - epoch 8 - train_loss: 0.7137. \n",
      "29/08/2021 18:30:05 - lib.trainer - INFO - epoch 8 - eval_loss: 1.4356. accuracy: 0.5500. \n",
      "100%|██████████| 3/3 [00:01<00:00,  1.75it/s]\n",
      "29/08/2021 18:30:07 - lib.trainer - INFO - epoch 9 - train_loss: 0.7062. \n",
      "29/08/2021 18:30:07 - lib.callbacks - INFO - New best score - accuracy: 0.9000\n",
      "29/08/2021 18:30:07 - lib.trainer - INFO - epoch 9 - eval_loss: 1.0966. accuracy: 0.9000. \n"
     ]
    }
   ],
   "source": [
    "trainer.train()"
   ]
  },
  {
   "cell_type": "code",
   "execution_count": null,
   "id": "96e0e11d",
   "metadata": {},
   "outputs": [],
   "source": []
  }
 ],
 "metadata": {
  "kernelspec": {
   "display_name": "Python 3",
   "language": "python",
   "name": "python3"
  },
  "language_info": {
   "codemirror_mode": {
    "name": "ipython",
    "version": 3
   },
   "file_extension": ".py",
   "mimetype": "text/x-python",
   "name": "python",
   "nbconvert_exporter": "python",
   "pygments_lexer": "ipython3",
   "version": "3.8.10"
  }
 },
 "nbformat": 4,
 "nbformat_minor": 5
}
