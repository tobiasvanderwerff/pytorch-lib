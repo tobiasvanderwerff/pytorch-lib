{
 "cells": [
  {
   "cell_type": "code",
   "execution_count": 1,
   "id": "e7ef2995",
   "metadata": {},
   "outputs": [],
   "source": [
    "%load_ext autoreload\n",
    "%autoreload 2"
   ]
  },
  {
   "cell_type": "code",
   "execution_count": 2,
   "id": "e8edd7de",
   "metadata": {},
   "outputs": [],
   "source": [
    "import logging\n",
    "\n",
    "import torch\n",
    "import torch.nn as nn\n",
    "import torch.optim as optim\n",
    "import torchvision\n",
    "import torchvision.transforms as transforms\n",
    "import torchvision.datasets as datasets\n",
    "import torchvision.models as models\n",
    "import numpy as np\n",
    "import matplotlib.pyplot as plt\n",
    "from torch.utils.data import Dataset, DataLoader, Subset"
   ]
  },
  {
   "cell_type": "code",
   "execution_count": 3,
   "id": "22825631",
   "metadata": {},
   "outputs": [],
   "source": [
    "# logging.basicConfig(format='%(asctime)s - %(name)s - %(levelname)s - %(message)s',\n",
    "#                     datefmt='%d/%m/%Y %H:%M:%S',\n",
    "#                     level=logging.INFO)\n",
    "\n",
    "import datetime\n",
    "from pathlib import Path\n",
    "\n",
    "checkpoint_path = Path(\"checkpoints\")\n",
    "checkpoint_path.mkdir(exist_ok=True, parents=True)\n",
    "\n",
    "\n",
    "TIMESTAMP = datetime.datetime.today().strftime(\"%y%m%d_%H:%M\")\n",
    "log_file = checkpoint_path/f\"train_{TIMESTAMP}.log\"\n",
    "logging.basicConfig(\n",
    "    format=\"%(asctime)s - %(name)s - %(levelname)s - %(message)s\",\n",
    "    datefmt=\"%d/%m/%Y %H:%M:%S\",\n",
    "    level=logging.INFO,\n",
    "    handlers=[logging.FileHandler(log_file), logging.StreamHandler()],\n",
    ")\n",
    "logger = logging.getLogger(__name__)"
   ]
  },
  {
   "cell_type": "code",
   "execution_count": 4,
   "id": "bf763987",
   "metadata": {},
   "outputs": [],
   "source": [
    "device = \"cuda:0\" if torch.cuda.is_available() else \"cpu\""
   ]
  },
  {
   "cell_type": "code",
   "execution_count": 5,
   "id": "d9313788",
   "metadata": {},
   "outputs": [],
   "source": [
    "trnsf = {\n",
    "    'train': transforms.Compose([\n",
    "        transforms.RandomHorizontalFlip(p=0.5),\n",
    "        transforms.ToTensor(),\n",
    "        transforms.Normalize(0.5, 0.5),\n",
    "    ]),\n",
    "    'test': transforms.Compose([\n",
    "        transforms.ToTensor(),\n",
    "        transforms.Normalize(0.5, 0.5),\n",
    "    ])\n",
    "}"
   ]
  },
  {
   "cell_type": "code",
   "execution_count": 6,
   "id": "59825945",
   "metadata": {
    "scrolled": true
   },
   "outputs": [
    {
     "name": "stderr",
     "output_type": "stream",
     "text": [
      "/home/tobias/.local/lib/python3.8/site-packages/torchvision/datasets/mnist.py:498: UserWarning: The given NumPy array is not writeable, and PyTorch does not support non-writeable tensors. This means you can write to the underlying (supposedly non-writeable) NumPy array using the tensor. You may want to copy the array to protect its data or make it writeable before converting it to a tensor. This type of warning will be suppressed for the rest of this program. (Triggered internally at  /pytorch/torch/csrc/utils/tensor_numpy.cpp:180.)\n",
      "  return torch.from_numpy(parsed.astype(m[2], copy=False)).view(*s)\n"
     ]
    }
   ],
   "source": [
    "ds_train = datasets.MNIST(root='.', train=True, transform=trnsf['train'], download=True)\n",
    "ds_train = Subset(ds_train, list(range(80)))\n",
    "\n",
    "ds_eval = datasets.MNIST(root='.', train=False, transform=trnsf['test'], download=True)\n",
    "ds_eval = Subset(ds_eval, list(range(20)))"
   ]
  },
  {
   "cell_type": "code",
   "execution_count": 7,
   "id": "24232f71",
   "metadata": {},
   "outputs": [],
   "source": [
    "def imshow(im: torch.Tensor):\n",
    "    im = im * 0.5 + 0.5\n",
    "    im_np = im.numpy()\n",
    "    im_np = im_np.transpose([1, 2, 0])\n",
    "    plt.axis('off')\n",
    "    plt.imshow(im_np, cmap='gray')"
   ]
  },
  {
   "cell_type": "code",
   "execution_count": 8,
   "id": "b0230bc8",
   "metadata": {},
   "outputs": [
    {
     "name": "stdout",
     "output_type": "stream",
     "text": [
      "target: 9\n"
     ]
    },
    {
     "data": {
      "image/png": "[encoded data removed]",
      "text/plain": [
       "<Figure size 432x288 with 1 Axes>"
      ]
     },
     "metadata": {
      "needs_background": "light"
     },
     "output_type": "display_data"
    }
   ],
   "source": [
    "import random\n",
    "\n",
    "# show a random image\n",
    "idx = random.randint(0, len(ds_train))\n",
    "x = ds_train[idx]\n",
    "\n",
    "imshow(x[0])\n",
    "print(f\"target: {x[1]}\")"
   ]
  },
  {
   "cell_type": "code",
   "execution_count": 9,
   "id": "cae72586",
   "metadata": {},
   "outputs": [],
   "source": [
    "n_classes = len(torch.unique(ds_train.dataset.targets).tolist())"
   ]
  },
  {
   "cell_type": "code",
   "execution_count": 10,
   "id": "d4457d20",
   "metadata": {},
   "outputs": [],
   "source": [
    "model = models.resnet18()\n",
    "model.conv1 = nn.Conv2d(1, 64, kernel_size=(7, 7), stride=(2, 2), padding=(3, 3), bias=False)\n",
    "model.fc = nn.Linear(512, n_classes)\n",
    "model.to(device);"
   ]
  },
  {
   "cell_type": "code",
   "execution_count": 11,
   "id": "d61473dd",
   "metadata": {},
   "outputs": [],
   "source": [
    "from lib.data import LabelSmoothingLoss\n",
    "\n",
    "optimizer = optim.Adam(model.parameters(), lr=0.001)\n",
    "criterion = LabelSmoothingLoss(n_classes, confidence=0.9)"
   ]
  },
  {
   "cell_type": "code",
   "execution_count": 12,
   "id": "a8e19b10",
   "metadata": {},
   "outputs": [
    {
     "name": "stderr",
     "output_type": "stream",
     "text": [
      "29/08/2021 22:27:23 - lib.callbacks - INFO - Logging to MLFlow tracking server at http://localhost:5000\n",
      "29/08/2021 22:27:23 - lib.trainer - INFO - Using Stochastic Weight Averaging (SWA).\n",
      "29/08/2021 22:27:23 - lib.trainer - INFO - Using mixed precision training.\n",
      "/home/tobias/.local/lib/python3.8/site-packages/torch/cuda/amp/grad_scaler.py:115: UserWarning: torch.cuda.amp.GradScaler is enabled, but CUDA is not available.  Disabling.\n",
      "  warnings.warn(\"torch.cuda.amp.GradScaler is enabled, but CUDA is not available.  Disabling.\")\n"
     ]
    }
   ],
   "source": [
    "from lib.trainer import TrainerConfig, Trainer\n",
    "from lib.metrics import AccuracyCallback\n",
    "from lib.callbacks import EarlyStoppingCallback, MLFlowCallback, CheckpointCallback\n",
    "from lib.torch_utils import set_seed\n",
    "\n",
    "set_seed(1337)\n",
    "\n",
    "config = TrainerConfig(\n",
    "    batch_size=32, \n",
    "    max_epochs=10,\n",
    "    use_swa=True,\n",
    ")\n",
    "trainer = Trainer(\n",
    "    config, \n",
    "    model, \n",
    "    optimizer, \n",
    "    ds_train, \n",
    "    ds_eval,\n",
    "    loss_fn=criterion,\n",
    "    callbacks=[\n",
    "        AccuracyCallback(monitor=True), \n",
    "        CheckpointCallback(checkpoint_path, monitor=\"accuracy\"),\n",
    "#         EarlyStoppingCallback(max_epochs_no_change=5)\n",
    "        MLFlowCallback(experiment_name=\"default\", artifacts_to_log=[log_file])\n",
    "    ]\n",
    ")"
   ]
  },
  {
   "cell_type": "code",
   "execution_count": 13,
   "id": "3f1fcab6",
   "metadata": {
    "scrolled": false
   },
   "outputs": [
    {
     "name": "stderr",
     "output_type": "stream",
     "text": [
      "  0%|          | 0/3 [00:00<?, ?it/s]/home/tobias/.local/lib/python3.8/site-packages/torch/cuda/amp/autocast_mode.py:120: UserWarning: torch.cuda.amp.autocast only affects CUDA ops, but CUDA is not available.  Disabling.\n",
      "  warnings.warn(\"torch.cuda.amp.autocast only affects CUDA ops, but CUDA is not available.  Disabling.\")\n",
      "/home/tobias/.local/lib/python3.8/site-packages/torch/nn/functional.py:718: UserWarning: Named tensors and all their associated APIs are an experimental feature and subject to change. Please do not use them for anything important until they are released as stable. (Triggered internally at  /pytorch/c10/core/TensorImpl.h:1156.)\n",
      "  return torch.max_pool2d(input, kernel_size, stride, padding, dilation, ceil_mode)\n",
      "100%|██████████| 3/3 [00:01<00:00,  1.80it/s]\n",
      "29/08/2021 22:27:25 - lib.trainer - INFO - epoch 0 - train_loss: 2.1388. \n",
      "29/08/2021 22:27:25 - lib.callbacks - INFO - New best score - accuracy: 0.1000\n",
      "29/08/2021 22:27:25 - lib.callbacks - INFO - Saving checkpoint.\n",
      "29/08/2021 22:27:26 - lib.trainer - INFO - epoch 0 - eval_loss: 2.3693. accuracy: 0.1000. \n",
      "100%|██████████| 3/3 [00:01<00:00,  1.77it/s]\n",
      "29/08/2021 22:27:27 - lib.trainer - INFO - epoch 1 - train_loss: 1.3427. \n",
      "29/08/2021 22:27:28 - lib.callbacks - INFO - New best score - accuracy: 0.3500\n",
      "29/08/2021 22:27:28 - lib.callbacks - INFO - Saving checkpoint.\n",
      "29/08/2021 22:27:28 - lib.trainer - INFO - epoch 1 - eval_loss: 2.1475. accuracy: 0.3500. \n",
      "100%|██████████| 3/3 [00:01<00:00,  1.95it/s]\n",
      "29/08/2021 22:27:29 - lib.trainer - INFO - epoch 2 - train_loss: 1.2016. \n",
      "29/08/2021 22:27:29 - lib.trainer - INFO - epoch 2 - eval_loss: 1.9642. accuracy: 0.3500. \n",
      "100%|██████████| 3/3 [00:01<00:00,  1.93it/s]\n",
      "29/08/2021 22:27:31 - lib.trainer - INFO - epoch 3 - train_loss: 0.9959. \n",
      "29/08/2021 22:27:31 - lib.callbacks - INFO - New best score - accuracy: 0.4500\n",
      "29/08/2021 22:27:31 - lib.callbacks - INFO - Saving checkpoint.\n",
      "29/08/2021 22:27:31 - lib.trainer - INFO - epoch 3 - eval_loss: 1.8170. accuracy: 0.4500. \n",
      "100%|██████████| 3/3 [00:01<00:00,  1.91it/s]\n",
      "29/08/2021 22:27:33 - lib.trainer - INFO - epoch 4 - train_loss: 0.8008. \n",
      "29/08/2021 22:27:33 - lib.trainer - INFO - epoch 4 - eval_loss: 1.8349. accuracy: 0.4500. \n",
      "100%|██████████| 3/3 [00:01<00:00,  1.94it/s]\n",
      "29/08/2021 22:27:34 - lib.trainer - INFO - epoch 5 - train_loss: 0.7405. \n",
      "29/08/2021 22:27:35 - lib.callbacks - INFO - New best score - accuracy: 0.5000\n",
      "29/08/2021 22:27:35 - lib.callbacks - INFO - Saving checkpoint.\n",
      "29/08/2021 22:27:35 - lib.trainer - INFO - epoch 5 - eval_loss: 1.8733. accuracy: 0.5000. \n",
      "100%|██████████| 3/3 [00:01<00:00,  1.79it/s]\n",
      "29/08/2021 22:27:36 - lib.trainer - INFO - epoch 6 - train_loss: 0.8275. \n",
      "29/08/2021 22:27:37 - lib.trainer - INFO - epoch 6 - eval_loss: 2.2427. accuracy: 0.2500. \n",
      "100%|██████████| 3/3 [00:01<00:00,  1.92it/s]\n",
      "29/08/2021 22:27:38 - lib.trainer - INFO - epoch 7 - train_loss: 0.7573. \n",
      "29/08/2021 22:27:38 - lib.callbacks - INFO - New best score - accuracy: 0.5500\n",
      "29/08/2021 22:27:38 - lib.callbacks - INFO - Saving checkpoint.\n",
      "29/08/2021 22:27:38 - lib.trainer - INFO - epoch 7 - eval_loss: 1.6625. accuracy: 0.5500. \n",
      "  0%|          | 0/3 [00:00<?, ?it/s]29/08/2021 22:27:39 - lib.trainer - INFO - Starting Stochastic Weight Averaging.\n",
      "100%|██████████| 3/3 [00:01<00:00,  1.67it/s]\n",
      "29/08/2021 22:27:40 - lib.trainer - INFO - epoch 8 - train_loss: 0.7854. \n",
      "29/08/2021 22:27:40 - lib.callbacks - INFO - New best score - accuracy: 0.6000\n",
      "29/08/2021 22:27:40 - lib.callbacks - INFO - Saving checkpoint.\n",
      "29/08/2021 22:27:41 - lib.trainer - INFO - epoch 8 - eval_loss: 1.7747. accuracy: 0.6000. \n",
      "100%|██████████| 3/3 [00:01<00:00,  1.76it/s]\n",
      "29/08/2021 22:27:42 - lib.trainer - INFO - epoch 9 - train_loss: 0.7380. \n",
      "29/08/2021 22:27:43 - lib.callbacks - INFO - New best score - accuracy: 0.8500\n",
      "29/08/2021 22:27:43 - lib.callbacks - INFO - Saving checkpoint.\n",
      "29/08/2021 22:27:43 - lib.trainer - INFO - epoch 9 - eval_loss: 1.2772. accuracy: 0.8500. \n"
     ]
    }
   ],
   "source": [
    "trainer.train()"
   ]
  },
  {
   "cell_type": "code",
   "execution_count": null,
   "id": "08497da1",
   "metadata": {},
   "outputs": [],
   "source": []
  }
 ],
 "metadata": {
  "kernelspec": {
   "display_name": "Python 3",
   "language": "python",
   "name": "python3"
  },
  "language_info": {
   "codemirror_mode": {
    "name": "ipython",
    "version": 3
   },
   "file_extension": ".py",
   "mimetype": "text/x-python",
   "name": "python",
   "nbconvert_exporter": "python",
   "pygments_lexer": "ipython3",
   "version": "3.8.10"
  }
 },
 "nbformat": 4,
 "nbformat_minor": 5
}
