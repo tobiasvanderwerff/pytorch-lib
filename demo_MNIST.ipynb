{
 "cells": [
  {
   "cell_type": "code",
   "execution_count": 1,
   "id": "e7ef2995",
   "metadata": {},
   "outputs": [],
   "source": [
    "%load_ext autoreload\n",
    "%autoreload 2"
   ]
  },
  {
   "cell_type": "code",
   "execution_count": 2,
   "id": "e8edd7de",
   "metadata": {},
   "outputs": [],
   "source": [
    "import logging\n",
    "\n",
    "import torch\n",
    "import torch.nn as nn\n",
    "import torch.optim as optim\n",
    "import torchvision\n",
    "import torchvision.transforms as transforms\n",
    "import torchvision.datasets as datasets\n",
    "import torchvision.models as models\n",
    "import numpy as np\n",
    "import matplotlib.pyplot as plt\n",
    "from torch.utils.data import Dataset, DataLoader, Subset"
   ]
  },
  {
   "cell_type": "code",
   "execution_count": 3,
   "id": "22825631",
   "metadata": {},
   "outputs": [],
   "source": [
    "logging.basicConfig(format='%(asctime)s - %(name)s - %(levelname)s - %(message)s',\n",
    "                    datefmt='%d/%m/%Y %H:%M:%S',\n",
    "                    level=logging.INFO)\n",
    "logger = logging.getLogger(__name__)"
   ]
  },
  {
   "cell_type": "code",
   "execution_count": 4,
   "id": "d9313788",
   "metadata": {},
   "outputs": [],
   "source": [
    "trnsf = {\n",
    "    'train': transforms.Compose([\n",
    "        transforms.RandomHorizontalFlip(p=0.5),\n",
    "        transforms.ToTensor(),\n",
    "        transforms.Normalize(0.5, 0.5),\n",
    "    ]),\n",
    "    'test': transforms.Compose([\n",
    "        transforms.ToTensor(),\n",
    "        transforms.Normalize(0.5, 0.5),\n",
    "    ])\n",
    "}"
   ]
  },
  {
   "cell_type": "code",
   "execution_count": 5,
   "id": "59825945",
   "metadata": {
    "scrolled": true
   },
   "outputs": [
    {
     "name": "stderr",
     "output_type": "stream",
     "text": [
      "/home/tobias/.local/lib/python3.8/site-packages/torchvision/datasets/mnist.py:498: UserWarning: The given NumPy array is not writeable, and PyTorch does not support non-writeable tensors. This means you can write to the underlying (supposedly non-writeable) NumPy array using the tensor. You may want to copy the array to protect its data or make it writeable before converting it to a tensor. This type of warning will be suppressed for the rest of this program. (Triggered internally at  /pytorch/torch/csrc/utils/tensor_numpy.cpp:180.)\n",
      "  return torch.from_numpy(parsed.astype(m[2], copy=False)).view(*s)\n"
     ]
    }
   ],
   "source": [
    "ds_train = datasets.MNIST(root='.', train=True, transform=trnsf['train'], download=True)\n",
    "ds_train = Subset(ds_train, list(range(80)))\n",
    "\n",
    "ds_eval = datasets.MNIST(root='.', train=False, transform=trnsf['test'], download=True)\n",
    "ds_eval = Subset(ds_eval, list(range(20)))"
   ]
  },
  {
   "cell_type": "code",
   "execution_count": 6,
   "id": "24232f71",
   "metadata": {},
   "outputs": [],
   "source": [
    "def imshow(im: torch.Tensor):\n",
    "    im = im * 0.5 + 0.5\n",
    "    im_np = im.numpy()\n",
    "    im_np = im_np.transpose([1, 2, 0])\n",
    "    plt.axis('off')\n",
    "    plt.imshow(im_np, cmap='gray')"
   ]
  },
  {
   "cell_type": "code",
   "execution_count": 7,
   "id": "b0230bc8",
   "metadata": {},
   "outputs": [
    {
     "name": "stdout",
     "output_type": "stream",
     "text": [
      "target: 2\n"
     ]
    },
    {
     "data": {
      "image/png": "[encoded data removed]",
      "text/plain": [
       "<Figure size 432x288 with 1 Axes>"
      ]
     },
     "metadata": {
      "needs_background": "light"
     },
     "output_type": "display_data"
    }
   ],
   "source": [
    "import random\n",
    "\n",
    "# show a random image\n",
    "idx = random.randint(0, len(ds_train))\n",
    "x = ds_train[idx]\n",
    "\n",
    "imshow(x[0])\n",
    "print(f\"target: {x[1]}\")"
   ]
  },
  {
   "cell_type": "code",
   "execution_count": 8,
   "id": "cae72586",
   "metadata": {},
   "outputs": [],
   "source": [
    "n_classes = len(torch.unique(ds_train.dataset.targets).tolist())"
   ]
  },
  {
   "cell_type": "code",
   "execution_count": 13,
   "id": "d4457d20",
   "metadata": {},
   "outputs": [],
   "source": [
    "model = models.resnet18()\n",
    "model.conv1 = nn.Conv2d(1, 64, kernel_size=(7, 7), stride=(2, 2), padding=(3, 3), bias=False)\n",
    "model.fc = nn.Linear(512, n_classes)"
   ]
  },
  {
   "cell_type": "code",
   "execution_count": 14,
   "id": "d61473dd",
   "metadata": {},
   "outputs": [],
   "source": [
    "from lib.data import LabelSmoothingLoss\n",
    "\n",
    "optimizer = optim.Adam(model.parameters())\n",
    "criterion = LabelSmoothingLoss(n_classes, confidence=0.9)"
   ]
  },
  {
   "cell_type": "code",
   "execution_count": 15,
   "id": "a8e19b10",
   "metadata": {},
   "outputs": [],
   "source": [
    "from lib.trainer import TrainerConfig, Trainer\n",
    "from lib.metrics import AccuracyCallback\n",
    "from lib.callbacks import EarlyStoppingCallback\n",
    "from lib.torch_utils import set_seed\n",
    "\n",
    "set_seed(1337)\n",
    "\n",
    "config = TrainerConfig(\n",
    "    batch_size=32, \n",
    "    epochs=50\n",
    ")\n",
    "trainer = Trainer(\n",
    "    config, \n",
    "    model, \n",
    "    optimizer, \n",
    "    ds_train, \n",
    "    ds_eval,\n",
    "    loss_fn=criterion,\n",
    "    callbacks=[AccuracyCallback(monitor=True), EarlyStoppingCallback(max_epochs_no_change=5)]\n",
    ")"
   ]
  },
  {
   "cell_type": "code",
   "execution_count": 16,
   "id": "3f1fcab6",
   "metadata": {
    "scrolled": false
   },
   "outputs": [
    {
     "name": "stderr",
     "output_type": "stream",
     "text": [
      "100%|██████████| 3/3 [00:02<00:00,  1.48it/s]\n",
      "29/08/2021 00:09:39 - lib.trainer - INFO - epoch 0 - train_loss: 2.0899. \n",
      "29/08/2021 00:09:39 - lib.callbacks - INFO - New best score - accuracy: 0.1500\n",
      "29/08/2021 00:09:39 - lib.trainer - INFO - epoch 0 - eval_loss: 2.3452. accuracy: 0.1500. \n",
      "100%|██████████| 3/3 [00:01<00:00,  1.90it/s]\n",
      "29/08/2021 00:09:41 - lib.trainer - INFO - epoch 1 - train_loss: 1.3334. \n",
      "29/08/2021 00:09:41 - lib.callbacks - INFO - New best score - accuracy: 0.4500\n",
      "29/08/2021 00:09:41 - lib.trainer - INFO - epoch 1 - eval_loss: 2.0372. accuracy: 0.4500. \n",
      "100%|██████████| 3/3 [00:01<00:00,  1.86it/s]\n",
      "29/08/2021 00:09:43 - lib.trainer - INFO - epoch 2 - train_loss: 1.2245. \n",
      "29/08/2021 00:09:43 - lib.trainer - INFO - epoch 2 - eval_loss: 1.8608. accuracy: 0.4000. \n",
      "100%|██████████| 3/3 [00:01<00:00,  1.91it/s]\n",
      "29/08/2021 00:09:44 - lib.trainer - INFO - epoch 3 - train_loss: 1.2125. \n",
      "29/08/2021 00:09:44 - lib.callbacks - INFO - New best score - accuracy: 0.5000\n",
      "29/08/2021 00:09:44 - lib.trainer - INFO - epoch 3 - eval_loss: 1.8504. accuracy: 0.5000. \n",
      "100%|██████████| 3/3 [00:01<00:00,  1.85it/s]\n",
      "29/08/2021 00:09:46 - lib.trainer - INFO - epoch 4 - train_loss: 1.0113. \n",
      "29/08/2021 00:09:46 - lib.trainer - INFO - epoch 4 - eval_loss: 1.8393. accuracy: 0.3000. \n",
      "100%|██████████| 3/3 [00:01<00:00,  1.87it/s]\n",
      "29/08/2021 00:09:48 - lib.trainer - INFO - epoch 5 - train_loss: 0.8818. \n",
      "29/08/2021 00:09:48 - lib.trainer - INFO - epoch 5 - eval_loss: 1.7557. accuracy: 0.3500. \n",
      "100%|██████████| 3/3 [00:02<00:00,  1.38it/s]\n",
      "29/08/2021 00:09:50 - lib.trainer - INFO - epoch 6 - train_loss: 0.7999. \n",
      "29/08/2021 00:09:50 - lib.trainer - INFO - epoch 6 - eval_loss: 1.7506. accuracy: 0.5000. \n",
      "100%|██████████| 3/3 [00:01<00:00,  1.92it/s]\n",
      "29/08/2021 00:09:52 - lib.trainer - INFO - epoch 7 - train_loss: 0.7036. \n",
      "29/08/2021 00:09:52 - lib.callbacks - INFO - New best score - accuracy: 0.7500\n",
      "29/08/2021 00:09:52 - lib.trainer - INFO - epoch 7 - eval_loss: 1.5029. accuracy: 0.7500. \n",
      "100%|██████████| 3/3 [00:01<00:00,  1.91it/s]\n",
      "29/08/2021 00:09:53 - lib.trainer - INFO - epoch 8 - train_loss: 0.7210. \n",
      "29/08/2021 00:09:53 - lib.trainer - INFO - epoch 8 - eval_loss: 1.3830. accuracy: 0.7000. \n",
      "100%|██████████| 3/3 [00:01<00:00,  1.91it/s]\n",
      "29/08/2021 00:09:55 - lib.trainer - INFO - epoch 9 - train_loss: 0.7076. \n",
      "29/08/2021 00:09:55 - lib.trainer - INFO - epoch 9 - eval_loss: 1.3364. accuracy: 0.7000. \n",
      "100%|██████████| 3/3 [00:01<00:00,  1.93it/s]\n",
      "29/08/2021 00:09:56 - lib.trainer - INFO - epoch 10 - train_loss: 0.6701. \n",
      "29/08/2021 00:09:57 - lib.trainer - INFO - epoch 10 - eval_loss: 1.1663. accuracy: 0.7500. \n",
      "100%|██████████| 3/3 [00:01<00:00,  1.85it/s]\n",
      "29/08/2021 00:09:58 - lib.trainer - INFO - epoch 11 - train_loss: 0.6491. \n",
      "29/08/2021 00:09:58 - lib.callbacks - INFO - New best score - accuracy: 0.8000\n",
      "29/08/2021 00:09:58 - lib.trainer - INFO - epoch 11 - eval_loss: 1.1928. accuracy: 0.8000. \n",
      "100%|██████████| 3/3 [00:01<00:00,  1.91it/s]\n",
      "29/08/2021 00:10:00 - lib.trainer - INFO - epoch 12 - train_loss: 0.6536. \n",
      "29/08/2021 00:10:00 - lib.trainer - INFO - epoch 12 - eval_loss: 1.3159. accuracy: 0.7500. \n",
      "100%|██████████| 3/3 [00:01<00:00,  1.91it/s]\n",
      "29/08/2021 00:10:02 - lib.trainer - INFO - epoch 13 - train_loss: 0.6477. \n",
      "29/08/2021 00:10:02 - lib.trainer - INFO - epoch 13 - eval_loss: 1.2717. accuracy: 0.7500. \n",
      "100%|██████████| 3/3 [00:01<00:00,  1.92it/s]\n",
      "29/08/2021 00:10:03 - lib.trainer - INFO - epoch 14 - train_loss: 0.6912. \n",
      "29/08/2021 00:10:03 - lib.trainer - INFO - epoch 14 - eval_loss: 1.1744. accuracy: 0.6500. \n",
      "100%|██████████| 3/3 [00:01<00:00,  1.75it/s]\n",
      "29/08/2021 00:10:05 - lib.trainer - INFO - epoch 15 - train_loss: 0.6443. \n",
      "29/08/2021 00:10:05 - lib.trainer - INFO - epoch 15 - eval_loss: 1.1425. accuracy: 0.8000. \n",
      "100%|██████████| 3/3 [00:01<00:00,  1.93it/s]\n",
      "29/08/2021 00:10:07 - lib.trainer - INFO - epoch 16 - train_loss: 0.6753. \n",
      "29/08/2021 00:10:07 - lib.trainer - INFO - epoch 16 - eval_loss: 1.1635. accuracy: 0.7500. \n",
      "29/08/2021 00:10:07 - lib.trainer - INFO - Stopped early at epoch 16. Best scores: {'accuracy': 0.8}\n"
     ]
    }
   ],
   "source": [
    "trainer.train()"
   ]
  },
  {
   "cell_type": "code",
   "execution_count": null,
   "id": "96e0e11d",
   "metadata": {},
   "outputs": [],
   "source": []
  }
 ],
 "metadata": {
  "kernelspec": {
   "display_name": "Python 3",
   "language": "python",
   "name": "python3"
  },
  "language_info": {
   "codemirror_mode": {
    "name": "ipython",
    "version": 3
   },
   "file_extension": ".py",
   "mimetype": "text/x-python",
   "name": "python",
   "nbconvert_exporter": "python",
   "pygments_lexer": "ipython3",
   "version": "3.8.10"
  }
 },
 "nbformat": 4,
 "nbformat_minor": 5
}
