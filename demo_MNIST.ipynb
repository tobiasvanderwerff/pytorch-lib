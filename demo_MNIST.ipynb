{
 "cells": [
  {
   "cell_type": "code",
   "execution_count": 1,
   "id": "e7ef2995",
   "metadata": {},
   "outputs": [],
   "source": [
    "%load_ext autoreload\n",
    "%autoreload 2"
   ]
  },
  {
   "cell_type": "code",
   "execution_count": 2,
   "id": "e8edd7de",
   "metadata": {},
   "outputs": [],
   "source": [
    "import logging\n",
    "\n",
    "import torch\n",
    "import torch.nn as nn\n",
    "import torch.optim as optim\n",
    "import torchvision\n",
    "import torchvision.transforms as transforms\n",
    "import torchvision.datasets as datasets\n",
    "import torchvision.models as models\n",
    "import numpy as np\n",
    "import matplotlib.pyplot as plt\n",
    "from torch.utils.data import Dataset, DataLoader, Subset"
   ]
  },
  {
   "cell_type": "code",
   "execution_count": 3,
   "id": "22825631",
   "metadata": {},
   "outputs": [],
   "source": [
    "# logging.basicConfig(format='%(asctime)s - %(name)s - %(levelname)s - %(message)s',\n",
    "#                     datefmt='%d/%m/%Y %H:%M:%S',\n",
    "#                     level=logging.INFO)\n",
    "\n",
    "import datetime\n",
    "from pathlib import Path\n",
    "\n",
    "checkpoint_path = Path(\"checkpoints\")\n",
    "checkpoint_path.mkdir(exist_ok=True, parents=True)\n",
    "\n",
    "\n",
    "TIMESTAMP = datetime.datetime.today().strftime(\"%y%m%d_%H:%M\")\n",
    "log_file = checkpoint_path/f\"train_{TIMESTAMP}.log\"\n",
    "logging.basicConfig(\n",
    "    format=\"%(asctime)s - %(name)s - %(levelname)s - %(message)s\",\n",
    "    datefmt=\"%d/%m/%Y %H:%M:%S\",\n",
    "    level=logging.INFO,\n",
    "    handlers=[logging.FileHandler(log_file), logging.StreamHandler()],\n",
    ")\n",
    "logger = logging.getLogger(__name__)"
   ]
  },
  {
   "cell_type": "code",
   "execution_count": 4,
   "id": "bf763987",
   "metadata": {},
   "outputs": [],
   "source": [
    "device = \"cuda:0\" if torch.cuda.is_available() else \"cpu\""
   ]
  },
  {
   "cell_type": "code",
   "execution_count": 5,
   "id": "d9313788",
   "metadata": {},
   "outputs": [],
   "source": [
    "trnsf = {\n",
    "    'train': transforms.Compose([\n",
    "        transforms.RandomHorizontalFlip(p=0.5),\n",
    "        transforms.ToTensor(),\n",
    "        transforms.Normalize(0.5, 0.5),\n",
    "    ]),\n",
    "    'test': transforms.Compose([\n",
    "        transforms.ToTensor(),\n",
    "        transforms.Normalize(0.5, 0.5),\n",
    "    ])\n",
    "}"
   ]
  },
  {
   "cell_type": "code",
   "execution_count": 29,
   "id": "59825945",
   "metadata": {
    "scrolled": true
   },
   "outputs": [],
   "source": [
    "ds_train = datasets.MNIST(root='.', train=True, transform=trnsf['train'], download=True)\n",
    "ds_train = Subset(ds_train, list(range(80)))\n",
    "\n",
    "ds_eval = datasets.MNIST(root='.', train=False, transform=trnsf['test'], download=True)\n",
    "ds_eval = Subset(ds_eval, list(range(20)))"
   ]
  },
  {
   "cell_type": "code",
   "execution_count": 30,
   "id": "24232f71",
   "metadata": {},
   "outputs": [],
   "source": [
    "def imshow(im: torch.Tensor):\n",
    "    im = im * 0.5 + 0.5\n",
    "    im_np = im.numpy()\n",
    "    im_np = im_np.transpose([1, 2, 0])\n",
    "    plt.axis('off')\n",
    "    plt.imshow(im_np, cmap='gray')"
   ]
  },
  {
   "cell_type": "code",
   "execution_count": 31,
   "id": "b0230bc8",
   "metadata": {},
   "outputs": [
    {
     "name": "stdout",
     "output_type": "stream",
     "text": [
      "target: 4\n"
     ]
    },
    {
     "data": {
      "image/png": "[encoded data removed]",
      "text/plain": [
       "<Figure size 432x288 with 1 Axes>"
      ]
     },
     "metadata": {
      "needs_background": "light"
     },
     "output_type": "display_data"
    }
   ],
   "source": [
    "import random\n",
    "\n",
    "# show a random image\n",
    "idx = random.randint(0, len(ds_train))\n",
    "x = ds_train[idx]\n",
    "\n",
    "imshow(x[0])\n",
    "print(f\"target: {x[1]}\")"
   ]
  },
  {
   "cell_type": "code",
   "execution_count": 32,
   "id": "cae72586",
   "metadata": {},
   "outputs": [],
   "source": [
    "n_classes = len(torch.unique(ds_train.dataset.targets).tolist())"
   ]
  },
  {
   "cell_type": "code",
   "execution_count": 33,
   "id": "d4457d20",
   "metadata": {},
   "outputs": [],
   "source": [
    "model = models.resnet18()\n",
    "model.conv1 = nn.Conv2d(1, 64, kernel_size=(7, 7), stride=(2, 2), padding=(3, 3), bias=False)\n",
    "model.fc = nn.Linear(512, n_classes)\n",
    "model.to(device);"
   ]
  },
  {
   "cell_type": "code",
   "execution_count": 34,
   "id": "d61473dd",
   "metadata": {},
   "outputs": [],
   "source": [
    "from lib.data import LabelSmoothingLoss\n",
    "\n",
    "optimizer = optim.Adam(model.parameters(), lr=3e-4)\n",
    "\n",
    "# For the default scheduler, use a cooldown of 1000 epochs to ensure that the\n",
    "# learning rate is only decayed once. Reducing the LR only once prevents problems\n",
    "# with decaying too much/fast, as proposed by Andrej Karpathy in a 27-08-21 tweet.\n",
    "scheduler = optim.lr_scheduler.ReduceLROnPlateau(\n",
    "    optimizer, mode=\"min\", factor=0.1,\n",
    "    patience=10, cooldown=1000, verbose=True\n",
    ")  \n",
    "\n",
    "criterion = LabelSmoothingLoss(n_classes, confidence=0.9)"
   ]
  },
  {
   "cell_type": "code",
   "execution_count": 37,
   "id": "a8e19b10",
   "metadata": {},
   "outputs": [
    {
     "name": "stderr",
     "output_type": "stream",
     "text": [
      "05/09/2021 12:10:12 - lib.trainer - INFO - Using mixed precision training.\n"
     ]
    }
   ],
   "source": [
    "from lib.trainer import TrainerConfig, Trainer\n",
    "from lib.metrics import AccuracyCallback\n",
    "from lib.callbacks import EarlyStoppingCallback, MLFlowCallback, CheckpointCallback\n",
    "from lib.torch_utils import set_seed\n",
    "\n",
    "set_seed(1337)\n",
    "\n",
    "config = TrainerConfig(\n",
    "    batch_size=32, \n",
    "    max_epochs=30,\n",
    "#     use_swa=True,\n",
    ")\n",
    "trainer = Trainer(\n",
    "    config=config, \n",
    "    model=model, \n",
    "    optimizer=optimizer, \n",
    "    scheduler=scheduler,\n",
    "    train_ds=ds_train, \n",
    "    eval_ds=ds_eval,\n",
    "    loss_fn=criterion,\n",
    "    callbacks=[\n",
    "        AccuracyCallback(monitor=True), \n",
    "        CheckpointCallback(checkpoint_path, monitor=\"accuracy\"),\n",
    "#         EarlyStoppingCallback(max_epochs_no_change=5)\n",
    "        MLFlowCallback(experiment_name=\"default\", artifacts_to_log=[log_file])\n",
    "    ]\n",
    ")"
   ]
  },
  {
   "cell_type": "code",
   "execution_count": 38,
   "id": "3f1fcab6",
   "metadata": {
    "scrolled": false
   },
   "outputs": [
    {
     "name": "stderr",
     "output_type": "stream",
     "text": [
      "100%|██████████| 1/1 [00:00<00:00,  3.04it/s]\n",
      "05/09/2021 12:10:13 - lib.trainer - INFO - epoch 0 - train_loss: 0.5551. \n",
      "05/09/2021 12:10:13 - lib.callbacks - INFO - New best score - accuracy: 0.6500\n",
      "05/09/2021 12:10:13 - lib.trainer - INFO - epoch 0 - eval_loss: 1.6292. accuracy: 0.6500. \n",
      "  0%|          | 0/1 [00:00<?, ?it/s]"
     ]
    },
    {
     "name": "stdout",
     "output_type": "stream",
     "text": [
      "0.0003\n"
     ]
    },
    {
     "name": "stderr",
     "output_type": "stream",
     "text": [
      "100%|██████████| 1/1 [00:00<00:00,  2.90it/s]\n",
      "05/09/2021 12:10:14 - lib.trainer - INFO - epoch 1 - train_loss: 0.5654. \n",
      "05/09/2021 12:10:14 - lib.trainer - INFO - epoch 1 - eval_loss: 1.6300. accuracy: 0.6500. \n",
      "  0%|          | 0/1 [00:00<?, ?it/s]"
     ]
    },
    {
     "name": "stdout",
     "output_type": "stream",
     "text": [
      "0.0003\n"
     ]
    },
    {
     "name": "stderr",
     "output_type": "stream",
     "text": [
      "100%|██████████| 1/1 [00:00<00:00,  3.05it/s]\n",
      "05/09/2021 12:10:14 - lib.trainer - INFO - epoch 2 - train_loss: 0.6034. \n",
      "05/09/2021 12:10:14 - lib.trainer - INFO - epoch 2 - eval_loss: 1.6264. accuracy: 0.6500. \n",
      "  0%|          | 0/1 [00:00<?, ?it/s]"
     ]
    },
    {
     "name": "stdout",
     "output_type": "stream",
     "text": [
      "0.0003\n"
     ]
    },
    {
     "name": "stderr",
     "output_type": "stream",
     "text": [
      "100%|██████████| 1/1 [00:00<00:00,  2.77it/s]\n",
      "05/09/2021 12:10:15 - lib.trainer - INFO - epoch 3 - train_loss: 0.5598. \n",
      "05/09/2021 12:10:15 - lib.trainer - INFO - epoch 3 - eval_loss: 1.6204. accuracy: 0.6000. \n",
      "  0%|          | 0/1 [00:00<?, ?it/s]"
     ]
    },
    {
     "name": "stdout",
     "output_type": "stream",
     "text": [
      "0.0003\n"
     ]
    },
    {
     "name": "stderr",
     "output_type": "stream",
     "text": [
      "100%|██████████| 1/1 [00:00<00:00,  2.85it/s]\n",
      "05/09/2021 12:10:15 - lib.trainer - INFO - epoch 4 - train_loss: 0.5757. \n",
      "05/09/2021 12:10:15 - lib.trainer - INFO - epoch 4 - eval_loss: 1.5896. accuracy: 0.6000. \n",
      "  0%|          | 0/1 [00:00<?, ?it/s]"
     ]
    },
    {
     "name": "stdout",
     "output_type": "stream",
     "text": [
      "0.0003\n"
     ]
    },
    {
     "name": "stderr",
     "output_type": "stream",
     "text": [
      "100%|██████████| 1/1 [00:00<00:00,  2.71it/s]\n",
      "05/09/2021 12:10:16 - lib.trainer - INFO - epoch 5 - train_loss: 0.6170. \n",
      "05/09/2021 12:10:16 - lib.trainer - INFO - epoch 5 - eval_loss: 1.5586. accuracy: 0.6000. \n",
      "  0%|          | 0/1 [00:00<?, ?it/s]"
     ]
    },
    {
     "name": "stdout",
     "output_type": "stream",
     "text": [
      "0.0003\n"
     ]
    },
    {
     "name": "stderr",
     "output_type": "stream",
     "text": [
      "100%|██████████| 1/1 [00:00<00:00,  2.95it/s]\n",
      "05/09/2021 12:10:16 - lib.trainer - INFO - epoch 6 - train_loss: 0.5630. \n",
      "05/09/2021 12:10:16 - lib.trainer - INFO - epoch 6 - eval_loss: 1.5386. accuracy: 0.6500. \n",
      "  0%|          | 0/1 [00:00<?, ?it/s]"
     ]
    },
    {
     "name": "stdout",
     "output_type": "stream",
     "text": [
      "0.0003\n"
     ]
    },
    {
     "name": "stderr",
     "output_type": "stream",
     "text": [
      "100%|██████████| 1/1 [00:00<00:00,  3.01it/s]\n",
      "05/09/2021 12:10:16 - lib.trainer - INFO - epoch 7 - train_loss: 0.5546. \n",
      "05/09/2021 12:10:16 - lib.trainer - INFO - epoch 7 - eval_loss: 1.5272. accuracy: 0.6500. \n",
      "  0%|          | 0/1 [00:00<?, ?it/s]"
     ]
    },
    {
     "name": "stdout",
     "output_type": "stream",
     "text": [
      "0.0003\n"
     ]
    },
    {
     "name": "stderr",
     "output_type": "stream",
     "text": [
      "100%|██████████| 1/1 [00:00<00:00,  2.81it/s]\n",
      "05/09/2021 12:10:17 - lib.trainer - INFO - epoch 8 - train_loss: 0.5679. \n",
      "05/09/2021 12:10:17 - lib.trainer - INFO - epoch 8 - eval_loss: 1.5150. accuracy: 0.6500. \n",
      "  0%|          | 0/1 [00:00<?, ?it/s]"
     ]
    },
    {
     "name": "stdout",
     "output_type": "stream",
     "text": [
      "0.0003\n"
     ]
    },
    {
     "name": "stderr",
     "output_type": "stream",
     "text": [
      "100%|██████████| 1/1 [00:00<00:00,  2.38it/s]\n",
      "05/09/2021 12:10:17 - lib.trainer - INFO - epoch 9 - train_loss: 0.5576. \n",
      "05/09/2021 12:10:17 - lib.trainer - INFO - epoch 9 - eval_loss: 1.5151. accuracy: 0.6500. \n",
      "  0%|          | 0/1 [00:00<?, ?it/s]"
     ]
    },
    {
     "name": "stdout",
     "output_type": "stream",
     "text": [
      "0.0003\n"
     ]
    },
    {
     "name": "stderr",
     "output_type": "stream",
     "text": [
      "100%|██████████| 1/1 [00:00<00:00,  3.01it/s]\n",
      "05/09/2021 12:10:18 - lib.trainer - INFO - epoch 10 - train_loss: 0.5549. \n",
      "05/09/2021 12:10:18 - lib.trainer - INFO - epoch 10 - eval_loss: 1.5055. accuracy: 0.6500. \n",
      "  0%|          | 0/1 [00:00<?, ?it/s]"
     ]
    },
    {
     "name": "stdout",
     "output_type": "stream",
     "text": [
      "0.0003\n"
     ]
    },
    {
     "name": "stderr",
     "output_type": "stream",
     "text": [
      "100%|██████████| 1/1 [00:00<00:00,  2.41it/s]\n",
      "05/09/2021 12:10:18 - lib.trainer - INFO - epoch 11 - train_loss: 0.5668. \n",
      "05/09/2021 12:10:18 - lib.trainer - INFO - epoch 11 - eval_loss: 1.4915. accuracy: 0.6500. \n",
      "  0%|          | 0/1 [00:00<?, ?it/s]"
     ]
    },
    {
     "name": "stdout",
     "output_type": "stream",
     "text": [
      "0.0003\n"
     ]
    },
    {
     "name": "stderr",
     "output_type": "stream",
     "text": [
      "100%|██████████| 1/1 [00:00<00:00,  2.37it/s]\n",
      "05/09/2021 12:10:19 - lib.trainer - INFO - epoch 12 - train_loss: 0.5541. \n",
      "05/09/2021 12:10:19 - lib.callbacks - INFO - New best score - accuracy: 0.7000\n",
      "05/09/2021 12:10:19 - lib.trainer - INFO - epoch 12 - eval_loss: 1.4822. accuracy: 0.7000. \n",
      "  0%|          | 0/1 [00:00<?, ?it/s]"
     ]
    },
    {
     "name": "stdout",
     "output_type": "stream",
     "text": [
      "0.0003\n"
     ]
    },
    {
     "name": "stderr",
     "output_type": "stream",
     "text": [
      "100%|██████████| 1/1 [00:00<00:00,  2.69it/s]\n",
      "05/09/2021 12:10:19 - lib.trainer - INFO - epoch 13 - train_loss: 0.5671. \n",
      "05/09/2021 12:10:19 - lib.trainer - INFO - epoch 13 - eval_loss: 1.4725. accuracy: 0.6500. \n",
      "  0%|          | 0/1 [00:00<?, ?it/s]"
     ]
    },
    {
     "name": "stdout",
     "output_type": "stream",
     "text": [
      "0.0003\n"
     ]
    },
    {
     "name": "stderr",
     "output_type": "stream",
     "text": [
      "100%|██████████| 1/1 [00:00<00:00,  2.43it/s]\n",
      "05/09/2021 12:10:20 - lib.trainer - INFO - epoch 14 - train_loss: 0.5726. \n",
      "05/09/2021 12:10:20 - lib.trainer - INFO - epoch 14 - eval_loss: 1.4794. accuracy: 0.6500. \n",
      "  0%|          | 0/1 [00:00<?, ?it/s]"
     ]
    },
    {
     "name": "stdout",
     "output_type": "stream",
     "text": [
      "0.0003\n"
     ]
    },
    {
     "name": "stderr",
     "output_type": "stream",
     "text": [
      "100%|██████████| 1/1 [00:00<00:00,  2.65it/s]\n",
      "05/09/2021 12:10:20 - lib.trainer - INFO - epoch 15 - train_loss: 0.5582. \n",
      "05/09/2021 12:10:20 - lib.trainer - INFO - epoch 15 - eval_loss: 1.4901. accuracy: 0.6500. \n",
      "  0%|          | 0/1 [00:00<?, ?it/s]"
     ]
    },
    {
     "name": "stdout",
     "output_type": "stream",
     "text": [
      "0.0003\n"
     ]
    },
    {
     "name": "stderr",
     "output_type": "stream",
     "text": [
      "100%|██████████| 1/1 [00:00<00:00,  2.30it/s]\n",
      "05/09/2021 12:10:21 - lib.trainer - INFO - epoch 16 - train_loss: 0.5587. \n",
      "05/09/2021 12:10:21 - lib.trainer - INFO - epoch 16 - eval_loss: 1.4887. accuracy: 0.6500. \n",
      "  0%|          | 0/1 [00:00<?, ?it/s]"
     ]
    },
    {
     "name": "stdout",
     "output_type": "stream",
     "text": [
      "0.0003\n"
     ]
    },
    {
     "name": "stderr",
     "output_type": "stream",
     "text": [
      "100%|██████████| 1/1 [00:00<00:00,  2.25it/s]\n",
      "05/09/2021 12:10:21 - lib.trainer - INFO - epoch 17 - train_loss: 0.5531. \n",
      "05/09/2021 12:10:21 - lib.trainer - INFO - epoch 17 - eval_loss: 1.4916. accuracy: 0.7000. \n",
      "  0%|          | 0/1 [00:00<?, ?it/s]"
     ]
    },
    {
     "name": "stdout",
     "output_type": "stream",
     "text": [
      "0.0003\n"
     ]
    },
    {
     "name": "stderr",
     "output_type": "stream",
     "text": [
      "100%|██████████| 1/1 [00:00<00:00,  2.14it/s]\n",
      "05/09/2021 12:10:22 - lib.trainer - INFO - epoch 18 - train_loss: 0.5695. \n",
      "05/09/2021 12:10:22 - lib.trainer - INFO - epoch 18 - eval_loss: 1.4961. accuracy: 0.7000. \n",
      "  0%|          | 0/1 [00:00<?, ?it/s]"
     ]
    },
    {
     "name": "stdout",
     "output_type": "stream",
     "text": [
      "0.0003\n"
     ]
    },
    {
     "name": "stderr",
     "output_type": "stream",
     "text": [
      "100%|██████████| 1/1 [00:00<00:00,  3.03it/s]\n",
      "05/09/2021 12:10:22 - lib.trainer - INFO - epoch 19 - train_loss: 0.5669. \n",
      "05/09/2021 12:10:22 - lib.trainer - INFO - epoch 19 - eval_loss: 1.4905. accuracy: 0.7000. \n",
      "  0%|          | 0/1 [00:00<?, ?it/s]"
     ]
    },
    {
     "name": "stdout",
     "output_type": "stream",
     "text": [
      "0.0003\n"
     ]
    },
    {
     "name": "stderr",
     "output_type": "stream",
     "text": [
      "100%|██████████| 1/1 [00:00<00:00,  3.02it/s]\n",
      "05/09/2021 12:10:23 - lib.trainer - INFO - epoch 20 - train_loss: 0.5580. \n",
      "05/09/2021 12:10:23 - lib.trainer - INFO - epoch 20 - eval_loss: 1.4884. accuracy: 0.7000. \n",
      "  0%|          | 0/1 [00:00<?, ?it/s]"
     ]
    },
    {
     "name": "stdout",
     "output_type": "stream",
     "text": [
      "0.0003\n"
     ]
    },
    {
     "name": "stderr",
     "output_type": "stream",
     "text": [
      "100%|██████████| 1/1 [00:00<00:00,  2.23it/s]\n",
      "05/09/2021 12:10:23 - lib.trainer - INFO - epoch 21 - train_loss: 0.5549. \n",
      "05/09/2021 12:10:23 - lib.trainer - INFO - epoch 21 - eval_loss: 1.4881. accuracy: 0.7000. \n",
      "  0%|          | 0/1 [00:00<?, ?it/s]"
     ]
    },
    {
     "name": "stdout",
     "output_type": "stream",
     "text": [
      "0.0003\n"
     ]
    },
    {
     "name": "stderr",
     "output_type": "stream",
     "text": [
      "100%|██████████| 1/1 [00:00<00:00,  2.74it/s]\n",
      "05/09/2021 12:10:24 - lib.trainer - INFO - epoch 22 - train_loss: 0.5511. \n",
      "05/09/2021 12:10:24 - lib.callbacks - INFO - New best score - accuracy: 0.7500\n",
      "05/09/2021 12:10:24 - lib.trainer - INFO - epoch 22 - eval_loss: 1.4843. accuracy: 0.7500. \n",
      "  0%|          | 0/1 [00:00<?, ?it/s]"
     ]
    },
    {
     "name": "stdout",
     "output_type": "stream",
     "text": [
      "0.0003\n"
     ]
    },
    {
     "name": "stderr",
     "output_type": "stream",
     "text": [
      "100%|██████████| 1/1 [00:00<00:00,  2.98it/s]\n",
      "05/09/2021 12:10:24 - lib.trainer - INFO - epoch 23 - train_loss: 0.5565. \n",
      "05/09/2021 12:10:24 - lib.trainer - INFO - epoch 23 - eval_loss: 1.4803. accuracy: 0.7500. \n",
      "  0%|          | 0/1 [00:00<?, ?it/s]"
     ]
    },
    {
     "name": "stdout",
     "output_type": "stream",
     "text": [
      "0.0003\n"
     ]
    },
    {
     "name": "stderr",
     "output_type": "stream",
     "text": [
      "100%|██████████| 1/1 [00:00<00:00,  2.00it/s]\n",
      "05/09/2021 12:10:25 - lib.trainer - INFO - epoch 24 - train_loss: 0.5540. \n",
      "05/09/2021 12:10:25 - lib.trainer - INFO - epoch 24 - eval_loss: 1.4790. accuracy: 0.7500. \n",
      "  0%|          | 0/1 [00:00<?, ?it/s]"
     ]
    },
    {
     "name": "stdout",
     "output_type": "stream",
     "text": [
      "0.0003\n",
      "Epoch    65: reducing learning rate of group 0 to 3.0000e-05.\n"
     ]
    },
    {
     "name": "stderr",
     "output_type": "stream",
     "text": [
      "100%|██████████| 1/1 [00:00<00:00,  2.94it/s]\n",
      "05/09/2021 12:10:25 - lib.trainer - INFO - epoch 25 - train_loss: 0.5548. \n",
      "05/09/2021 12:10:25 - lib.trainer - INFO - epoch 25 - eval_loss: 1.4777. accuracy: 0.7000. \n",
      "  0%|          | 0/1 [00:00<?, ?it/s]"
     ]
    },
    {
     "name": "stdout",
     "output_type": "stream",
     "text": [
      "2.9999999999999997e-05\n"
     ]
    },
    {
     "name": "stderr",
     "output_type": "stream",
     "text": [
      "100%|██████████| 1/1 [00:00<00:00,  2.26it/s]\n",
      "05/09/2021 12:10:26 - lib.trainer - INFO - epoch 26 - train_loss: 0.5619. \n",
      "05/09/2021 12:10:26 - lib.trainer - INFO - epoch 26 - eval_loss: 1.4767. accuracy: 0.7000. \n",
      "  0%|          | 0/1 [00:00<?, ?it/s]"
     ]
    },
    {
     "name": "stdout",
     "output_type": "stream",
     "text": [
      "2.9999999999999997e-05\n"
     ]
    },
    {
     "name": "stderr",
     "output_type": "stream",
     "text": [
      "100%|██████████| 1/1 [00:00<00:00,  2.92it/s]\n",
      "05/09/2021 12:10:26 - lib.trainer - INFO - epoch 27 - train_loss: 0.5554. \n",
      "05/09/2021 12:10:26 - lib.trainer - INFO - epoch 27 - eval_loss: 1.4750. accuracy: 0.7000. \n",
      "  0%|          | 0/1 [00:00<?, ?it/s]"
     ]
    },
    {
     "name": "stdout",
     "output_type": "stream",
     "text": [
      "2.9999999999999997e-05\n"
     ]
    },
    {
     "name": "stderr",
     "output_type": "stream",
     "text": [
      "100%|██████████| 1/1 [00:00<00:00,  1.99it/s]\n",
      "05/09/2021 12:10:27 - lib.trainer - INFO - epoch 28 - train_loss: 0.5560. \n",
      "05/09/2021 12:10:27 - lib.trainer - INFO - epoch 28 - eval_loss: 1.4795. accuracy: 0.7000. \n",
      "  0%|          | 0/1 [00:00<?, ?it/s]"
     ]
    },
    {
     "name": "stdout",
     "output_type": "stream",
     "text": [
      "2.9999999999999997e-05\n"
     ]
    },
    {
     "name": "stderr",
     "output_type": "stream",
     "text": [
      "100%|██████████| 1/1 [00:00<00:00,  1.85it/s]\n",
      "05/09/2021 12:10:27 - lib.trainer - INFO - epoch 29 - train_loss: 0.5599. \n",
      "05/09/2021 12:10:27 - lib.trainer - INFO - epoch 29 - eval_loss: 1.4827. accuracy: 0.7000. \n",
      "  0%|          | 0/1 [00:00<?, ?it/s]"
     ]
    },
    {
     "name": "stdout",
     "output_type": "stream",
     "text": [
      "2.9999999999999997e-05\n"
     ]
    },
    {
     "name": "stderr",
     "output_type": "stream",
     "text": [
      "100%|██████████| 1/1 [00:00<00:00,  2.21it/s]\n",
      "05/09/2021 12:10:28 - lib.trainer - INFO - epoch 30 - train_loss: 0.5532. \n",
      "05/09/2021 12:10:28 - lib.trainer - INFO - epoch 30 - eval_loss: 1.4891. accuracy: 0.7000. \n",
      "  0%|          | 0/1 [00:00<?, ?it/s]"
     ]
    },
    {
     "name": "stdout",
     "output_type": "stream",
     "text": [
      "2.9999999999999997e-05\n"
     ]
    },
    {
     "name": "stderr",
     "output_type": "stream",
     "text": [
      "100%|██████████| 1/1 [00:00<00:00,  2.96it/s]\n",
      "05/09/2021 12:10:28 - lib.trainer - INFO - epoch 31 - train_loss: 0.5518. \n",
      "05/09/2021 12:10:28 - lib.trainer - INFO - epoch 31 - eval_loss: 1.4879. accuracy: 0.7000. \n",
      "  0%|          | 0/1 [00:00<?, ?it/s]"
     ]
    },
    {
     "name": "stdout",
     "output_type": "stream",
     "text": [
      "2.9999999999999997e-05\n"
     ]
    },
    {
     "name": "stderr",
     "output_type": "stream",
     "text": [
      "100%|██████████| 1/1 [00:00<00:00,  2.41it/s]\n",
      "05/09/2021 12:10:29 - lib.trainer - INFO - epoch 32 - train_loss: 0.5582. \n",
      "05/09/2021 12:10:29 - lib.trainer - INFO - epoch 32 - eval_loss: 1.4909. accuracy: 0.7000. \n",
      "  0%|          | 0/1 [00:00<?, ?it/s]"
     ]
    },
    {
     "name": "stdout",
     "output_type": "stream",
     "text": [
      "2.9999999999999997e-05\n"
     ]
    },
    {
     "name": "stderr",
     "output_type": "stream",
     "text": [
      "100%|██████████| 1/1 [00:00<00:00,  2.34it/s]\n",
      "05/09/2021 12:10:29 - lib.trainer - INFO - epoch 33 - train_loss: 0.5504. \n",
      "05/09/2021 12:10:29 - lib.trainer - INFO - epoch 33 - eval_loss: 1.4899. accuracy: 0.7000. \n",
      "  0%|          | 0/1 [00:00<?, ?it/s]"
     ]
    },
    {
     "name": "stdout",
     "output_type": "stream",
     "text": [
      "2.9999999999999997e-05\n"
     ]
    },
    {
     "name": "stderr",
     "output_type": "stream",
     "text": [
      "100%|██████████| 1/1 [00:00<00:00,  2.84it/s]\n",
      "05/09/2021 12:10:30 - lib.trainer - INFO - epoch 34 - train_loss: 0.5506. \n",
      "05/09/2021 12:10:30 - lib.trainer - INFO - epoch 34 - eval_loss: 1.4968. accuracy: 0.6500. \n",
      "  0%|          | 0/1 [00:00<?, ?it/s]"
     ]
    },
    {
     "name": "stdout",
     "output_type": "stream",
     "text": [
      "2.9999999999999997e-05\n"
     ]
    },
    {
     "name": "stderr",
     "output_type": "stream",
     "text": [
      "100%|██████████| 1/1 [00:00<00:00,  2.27it/s]\n",
      "05/09/2021 12:10:30 - lib.trainer - INFO - epoch 35 - train_loss: 0.5473. \n",
      "05/09/2021 12:10:30 - lib.trainer - INFO - epoch 35 - eval_loss: 1.4951. accuracy: 0.7000. \n",
      "  0%|          | 0/1 [00:00<?, ?it/s]"
     ]
    },
    {
     "name": "stdout",
     "output_type": "stream",
     "text": [
      "2.9999999999999997e-05\n"
     ]
    },
    {
     "name": "stderr",
     "output_type": "stream",
     "text": [
      "100%|██████████| 1/1 [00:00<00:00,  2.10it/s]\n",
      "05/09/2021 12:10:31 - lib.trainer - INFO - epoch 36 - train_loss: 0.5510. \n",
      "05/09/2021 12:10:31 - lib.trainer - INFO - epoch 36 - eval_loss: 1.4930. accuracy: 0.7000. \n",
      "  0%|          | 0/1 [00:00<?, ?it/s]"
     ]
    },
    {
     "name": "stdout",
     "output_type": "stream",
     "text": [
      "2.9999999999999997e-05\n"
     ]
    },
    {
     "name": "stderr",
     "output_type": "stream",
     "text": [
      "100%|██████████| 1/1 [00:00<00:00,  2.22it/s]\n",
      "05/09/2021 12:10:31 - lib.trainer - INFO - epoch 37 - train_loss: 0.5482. \n",
      "05/09/2021 12:10:31 - lib.trainer - INFO - epoch 37 - eval_loss: 1.4978. accuracy: 0.7000. \n",
      "  0%|          | 0/1 [00:00<?, ?it/s]"
     ]
    },
    {
     "name": "stdout",
     "output_type": "stream",
     "text": [
      "2.9999999999999997e-05\n"
     ]
    },
    {
     "name": "stderr",
     "output_type": "stream",
     "text": [
      "100%|██████████| 1/1 [00:00<00:00,  1.90it/s]\n",
      "05/09/2021 12:10:32 - lib.trainer - INFO - epoch 38 - train_loss: 0.5494. \n",
      "05/09/2021 12:10:32 - lib.trainer - INFO - epoch 38 - eval_loss: 1.5000. accuracy: 0.6500. \n",
      "  0%|          | 0/1 [00:00<?, ?it/s]"
     ]
    },
    {
     "name": "stdout",
     "output_type": "stream",
     "text": [
      "2.9999999999999997e-05\n"
     ]
    },
    {
     "name": "stderr",
     "output_type": "stream",
     "text": [
      "100%|██████████| 1/1 [00:00<00:00,  2.94it/s]\n",
      "05/09/2021 12:10:32 - lib.trainer - INFO - epoch 39 - train_loss: 0.5472. \n",
      "05/09/2021 12:10:32 - lib.trainer - INFO - epoch 39 - eval_loss: 1.5010. accuracy: 0.6500. \n",
      "  0%|          | 0/1 [00:00<?, ?it/s]"
     ]
    },
    {
     "name": "stdout",
     "output_type": "stream",
     "text": [
      "2.9999999999999997e-05\n"
     ]
    },
    {
     "name": "stderr",
     "output_type": "stream",
     "text": [
      "100%|██████████| 1/1 [00:00<00:00,  2.91it/s]\n",
      "05/09/2021 12:10:33 - lib.trainer - INFO - epoch 40 - train_loss: 0.5494. \n",
      "05/09/2021 12:10:33 - lib.trainer - INFO - epoch 40 - eval_loss: 1.5024. accuracy: 0.6500. \n",
      "  0%|          | 0/1 [00:00<?, ?it/s]"
     ]
    },
    {
     "name": "stdout",
     "output_type": "stream",
     "text": [
      "2.9999999999999997e-05\n"
     ]
    },
    {
     "name": "stderr",
     "output_type": "stream",
     "text": [
      "100%|██████████| 1/1 [00:00<00:00,  2.33it/s]\n",
      "05/09/2021 12:10:33 - lib.trainer - INFO - epoch 41 - train_loss: 0.5486. \n",
      "05/09/2021 12:10:33 - lib.trainer - INFO - epoch 41 - eval_loss: 1.5031. accuracy: 0.6500. \n",
      "  0%|          | 0/1 [00:00<?, ?it/s]"
     ]
    },
    {
     "name": "stdout",
     "output_type": "stream",
     "text": [
      "2.9999999999999997e-05\n"
     ]
    },
    {
     "name": "stderr",
     "output_type": "stream",
     "text": [
      "100%|██████████| 1/1 [00:00<00:00,  1.90it/s]\n",
      "05/09/2021 12:10:34 - lib.trainer - INFO - epoch 42 - train_loss: 0.5489. \n",
      "05/09/2021 12:10:34 - lib.trainer - INFO - epoch 42 - eval_loss: 1.5018. accuracy: 0.6500. \n",
      "  0%|          | 0/1 [00:00<?, ?it/s]"
     ]
    },
    {
     "name": "stdout",
     "output_type": "stream",
     "text": [
      "2.9999999999999997e-05\n"
     ]
    },
    {
     "name": "stderr",
     "output_type": "stream",
     "text": [
      "100%|██████████| 1/1 [00:00<00:00,  1.81it/s]\n",
      "05/09/2021 12:10:34 - lib.trainer - INFO - epoch 43 - train_loss: 0.5472. \n",
      "05/09/2021 12:10:34 - lib.trainer - INFO - epoch 43 - eval_loss: 1.5038. accuracy: 0.6500. \n",
      "  0%|          | 0/1 [00:00<?, ?it/s]"
     ]
    },
    {
     "name": "stdout",
     "output_type": "stream",
     "text": [
      "2.9999999999999997e-05\n"
     ]
    },
    {
     "name": "stderr",
     "output_type": "stream",
     "text": [
      "100%|██████████| 1/1 [00:00<00:00,  2.27it/s]\n",
      "05/09/2021 12:10:35 - lib.trainer - INFO - epoch 44 - train_loss: 0.5510. \n",
      "05/09/2021 12:10:35 - lib.trainer - INFO - epoch 44 - eval_loss: 1.5089. accuracy: 0.6500. \n",
      "  0%|          | 0/1 [00:00<?, ?it/s]"
     ]
    },
    {
     "name": "stdout",
     "output_type": "stream",
     "text": [
      "2.9999999999999997e-05\n"
     ]
    },
    {
     "name": "stderr",
     "output_type": "stream",
     "text": [
      "100%|██████████| 1/1 [00:00<00:00,  2.47it/s]\n",
      "05/09/2021 12:10:35 - lib.trainer - INFO - epoch 45 - train_loss: 0.5490. \n",
      "05/09/2021 12:10:35 - lib.trainer - INFO - epoch 45 - eval_loss: 1.5106. accuracy: 0.6500. \n",
      "  0%|          | 0/1 [00:00<?, ?it/s]"
     ]
    },
    {
     "name": "stdout",
     "output_type": "stream",
     "text": [
      "2.9999999999999997e-05\n"
     ]
    },
    {
     "name": "stderr",
     "output_type": "stream",
     "text": [
      "100%|██████████| 1/1 [00:00<00:00,  2.95it/s]\n",
      "05/09/2021 12:10:36 - lib.trainer - INFO - epoch 46 - train_loss: 0.5520. \n",
      "05/09/2021 12:10:36 - lib.trainer - INFO - epoch 46 - eval_loss: 1.5125. accuracy: 0.6500. \n",
      "  0%|          | 0/1 [00:00<?, ?it/s]"
     ]
    },
    {
     "name": "stdout",
     "output_type": "stream",
     "text": [
      "2.9999999999999997e-05\n"
     ]
    },
    {
     "name": "stderr",
     "output_type": "stream",
     "text": [
      "100%|██████████| 1/1 [00:00<00:00,  2.07it/s]\n",
      "05/09/2021 12:10:36 - lib.trainer - INFO - epoch 47 - train_loss: 0.5523. \n",
      "05/09/2021 12:10:36 - lib.trainer - INFO - epoch 47 - eval_loss: 1.5152. accuracy: 0.6500. \n",
      "  0%|          | 0/1 [00:00<?, ?it/s]"
     ]
    },
    {
     "name": "stdout",
     "output_type": "stream",
     "text": [
      "2.9999999999999997e-05\n"
     ]
    },
    {
     "name": "stderr",
     "output_type": "stream",
     "text": [
      "100%|██████████| 1/1 [00:00<00:00,  1.55it/s]\n",
      "05/09/2021 12:10:37 - lib.trainer - INFO - epoch 48 - train_loss: 0.5471. \n",
      "05/09/2021 12:10:37 - lib.trainer - INFO - epoch 48 - eval_loss: 1.5168. accuracy: 0.6500. \n",
      "  0%|          | 0/1 [00:00<?, ?it/s]"
     ]
    },
    {
     "name": "stdout",
     "output_type": "stream",
     "text": [
      "2.9999999999999997e-05\n"
     ]
    },
    {
     "name": "stderr",
     "output_type": "stream",
     "text": [
      "100%|██████████| 1/1 [00:00<00:00,  3.03it/s]\n",
      "05/09/2021 12:10:38 - lib.trainer - INFO - epoch 49 - train_loss: 0.5496. \n",
      "05/09/2021 12:10:38 - lib.trainer - INFO - epoch 49 - eval_loss: 1.5165. accuracy: 0.6500. \n",
      "  0%|          | 0/1 [00:00<?, ?it/s]"
     ]
    },
    {
     "name": "stdout",
     "output_type": "stream",
     "text": [
      "2.9999999999999997e-05\n"
     ]
    },
    {
     "name": "stderr",
     "output_type": "stream",
     "text": [
      "100%|██████████| 1/1 [00:00<00:00,  1.97it/s]\n",
      "05/09/2021 12:10:38 - lib.trainer - INFO - epoch 50 - train_loss: 0.5487. \n",
      "05/09/2021 12:10:38 - lib.trainer - INFO - epoch 50 - eval_loss: 1.5159. accuracy: 0.6500. \n",
      "  0%|          | 0/1 [00:00<?, ?it/s]"
     ]
    },
    {
     "name": "stdout",
     "output_type": "stream",
     "text": [
      "2.9999999999999997e-05\n"
     ]
    },
    {
     "name": "stderr",
     "output_type": "stream",
     "text": [
      "100%|██████████| 1/1 [00:00<00:00,  2.43it/s]\n",
      "05/09/2021 12:10:39 - lib.trainer - INFO - epoch 51 - train_loss: 0.5473. \n",
      "05/09/2021 12:10:39 - lib.trainer - INFO - epoch 51 - eval_loss: 1.5161. accuracy: 0.6500. \n",
      "  0%|          | 0/1 [00:00<?, ?it/s]"
     ]
    },
    {
     "name": "stdout",
     "output_type": "stream",
     "text": [
      "2.9999999999999997e-05\n"
     ]
    },
    {
     "name": "stderr",
     "output_type": "stream",
     "text": [
      "100%|██████████| 1/1 [00:00<00:00,  2.04it/s]\n",
      "05/09/2021 12:10:39 - lib.trainer - INFO - epoch 52 - train_loss: 0.5480. \n",
      "05/09/2021 12:10:39 - lib.trainer - INFO - epoch 52 - eval_loss: 1.5171. accuracy: 0.6500. \n",
      "  0%|          | 0/1 [00:00<?, ?it/s]"
     ]
    },
    {
     "name": "stdout",
     "output_type": "stream",
     "text": [
      "2.9999999999999997e-05\n"
     ]
    },
    {
     "name": "stderr",
     "output_type": "stream",
     "text": [
      "100%|██████████| 1/1 [00:00<00:00,  3.00it/s]\n",
      "05/09/2021 12:10:40 - lib.trainer - INFO - epoch 53 - train_loss: 0.5476. \n",
      "05/09/2021 12:10:40 - lib.trainer - INFO - epoch 53 - eval_loss: 1.5223. accuracy: 0.6500. \n",
      "  0%|          | 0/1 [00:00<?, ?it/s]"
     ]
    },
    {
     "name": "stdout",
     "output_type": "stream",
     "text": [
      "2.9999999999999997e-05\n"
     ]
    },
    {
     "name": "stderr",
     "output_type": "stream",
     "text": [
      "100%|██████████| 1/1 [00:00<00:00,  1.84it/s]\n",
      "05/09/2021 12:10:40 - lib.trainer - INFO - epoch 54 - train_loss: 0.5488. \n",
      "05/09/2021 12:10:40 - lib.trainer - INFO - epoch 54 - eval_loss: 1.5215. accuracy: 0.6500. \n",
      "  0%|          | 0/1 [00:00<?, ?it/s]"
     ]
    },
    {
     "name": "stdout",
     "output_type": "stream",
     "text": [
      "2.9999999999999997e-05\n"
     ]
    },
    {
     "name": "stderr",
     "output_type": "stream",
     "text": [
      "100%|██████████| 1/1 [00:00<00:00,  2.25it/s]\n",
      "05/09/2021 12:10:41 - lib.trainer - INFO - epoch 55 - train_loss: 0.5487. \n",
      "05/09/2021 12:10:41 - lib.trainer - INFO - epoch 55 - eval_loss: 1.5236. accuracy: 0.6500. \n",
      "  0%|          | 0/1 [00:00<?, ?it/s]"
     ]
    },
    {
     "name": "stdout",
     "output_type": "stream",
     "text": [
      "2.9999999999999997e-05\n"
     ]
    },
    {
     "name": "stderr",
     "output_type": "stream",
     "text": [
      "100%|██████████| 1/1 [00:00<00:00,  2.01it/s]\n",
      "05/09/2021 12:10:41 - lib.trainer - INFO - epoch 56 - train_loss: 0.5477. \n",
      "05/09/2021 12:10:41 - lib.trainer - INFO - epoch 56 - eval_loss: 1.5222. accuracy: 0.6500. \n",
      "  0%|          | 0/1 [00:00<?, ?it/s]"
     ]
    },
    {
     "name": "stdout",
     "output_type": "stream",
     "text": [
      "2.9999999999999997e-05\n"
     ]
    },
    {
     "name": "stderr",
     "output_type": "stream",
     "text": [
      "100%|██████████| 1/1 [00:00<00:00,  2.93it/s]\n",
      "05/09/2021 12:10:42 - lib.trainer - INFO - epoch 57 - train_loss: 0.5480. \n",
      "05/09/2021 12:10:42 - lib.trainer - INFO - epoch 57 - eval_loss: 1.5178. accuracy: 0.6500. \n",
      "  0%|          | 0/1 [00:00<?, ?it/s]"
     ]
    },
    {
     "name": "stdout",
     "output_type": "stream",
     "text": [
      "2.9999999999999997e-05\n"
     ]
    },
    {
     "name": "stderr",
     "output_type": "stream",
     "text": [
      "100%|██████████| 1/1 [00:00<00:00,  2.25it/s]\n",
      "05/09/2021 12:10:42 - lib.trainer - INFO - epoch 58 - train_loss: 0.5474. \n",
      "05/09/2021 12:10:42 - lib.trainer - INFO - epoch 58 - eval_loss: 1.5213. accuracy: 0.6500. \n",
      "  0%|          | 0/1 [00:00<?, ?it/s]"
     ]
    },
    {
     "name": "stdout",
     "output_type": "stream",
     "text": [
      "2.9999999999999997e-05\n"
     ]
    },
    {
     "name": "stderr",
     "output_type": "stream",
     "text": [
      "100%|██████████| 1/1 [00:00<00:00,  2.99it/s]\n",
      "05/09/2021 12:10:43 - lib.trainer - INFO - epoch 59 - train_loss: 0.5472. \n",
      "05/09/2021 12:10:43 - lib.trainer - INFO - epoch 59 - eval_loss: 1.5201. accuracy: 0.6500. \n",
      "  0%|          | 0/1 [00:00<?, ?it/s]"
     ]
    },
    {
     "name": "stdout",
     "output_type": "stream",
     "text": [
      "2.9999999999999997e-05\n"
     ]
    },
    {
     "name": "stderr",
     "output_type": "stream",
     "text": [
      "100%|██████████| 1/1 [00:00<00:00,  1.78it/s]\n",
      "05/09/2021 12:10:43 - lib.trainer - INFO - epoch 60 - train_loss: 0.5468. \n",
      "05/09/2021 12:10:43 - lib.trainer - INFO - epoch 60 - eval_loss: 1.5199. accuracy: 0.6500. \n",
      "  0%|          | 0/1 [00:00<?, ?it/s]"
     ]
    },
    {
     "name": "stdout",
     "output_type": "stream",
     "text": [
      "2.9999999999999997e-05\n"
     ]
    },
    {
     "name": "stderr",
     "output_type": "stream",
     "text": [
      "100%|██████████| 1/1 [00:00<00:00,  1.80it/s]\n",
      "05/09/2021 12:10:44 - lib.trainer - INFO - epoch 61 - train_loss: 0.5482. \n",
      "05/09/2021 12:10:44 - lib.trainer - INFO - epoch 61 - eval_loss: 1.5223. accuracy: 0.6500. \n",
      "  0%|          | 0/1 [00:00<?, ?it/s]"
     ]
    },
    {
     "name": "stdout",
     "output_type": "stream",
     "text": [
      "2.9999999999999997e-05\n"
     ]
    },
    {
     "name": "stderr",
     "output_type": "stream",
     "text": [
      "100%|██████████| 1/1 [00:00<00:00,  2.98it/s]\n",
      "05/09/2021 12:10:44 - lib.trainer - INFO - epoch 62 - train_loss: 0.5496. \n",
      "05/09/2021 12:10:44 - lib.trainer - INFO - epoch 62 - eval_loss: 1.5231. accuracy: 0.6500. \n",
      "  0%|          | 0/1 [00:00<?, ?it/s]"
     ]
    },
    {
     "name": "stdout",
     "output_type": "stream",
     "text": [
      "2.9999999999999997e-05\n"
     ]
    },
    {
     "name": "stderr",
     "output_type": "stream",
     "text": [
      "100%|██████████| 1/1 [00:00<00:00,  2.94it/s]\n",
      "05/09/2021 12:10:45 - lib.trainer - INFO - epoch 63 - train_loss: 0.5469. \n",
      "05/09/2021 12:10:45 - lib.trainer - INFO - epoch 63 - eval_loss: 1.5239. accuracy: 0.6500. \n",
      "  0%|          | 0/1 [00:00<?, ?it/s]"
     ]
    },
    {
     "name": "stdout",
     "output_type": "stream",
     "text": [
      "2.9999999999999997e-05\n"
     ]
    },
    {
     "name": "stderr",
     "output_type": "stream",
     "text": [
      "100%|██████████| 1/1 [00:00<00:00,  2.06it/s]\n",
      "05/09/2021 12:10:45 - lib.trainer - INFO - epoch 64 - train_loss: 0.5481. \n",
      "05/09/2021 12:10:45 - lib.trainer - INFO - epoch 64 - eval_loss: 1.5228. accuracy: 0.6500. \n",
      "  0%|          | 0/1 [00:00<?, ?it/s]"
     ]
    },
    {
     "name": "stdout",
     "output_type": "stream",
     "text": [
      "2.9999999999999997e-05\n"
     ]
    },
    {
     "name": "stderr",
     "output_type": "stream",
     "text": [
      "100%|██████████| 1/1 [00:00<00:00,  2.71it/s]\n",
      "05/09/2021 12:10:46 - lib.trainer - INFO - epoch 65 - train_loss: 0.5461. \n",
      "05/09/2021 12:10:46 - lib.trainer - INFO - epoch 65 - eval_loss: 1.5213. accuracy: 0.6500. \n",
      "  0%|          | 0/1 [00:00<?, ?it/s]"
     ]
    },
    {
     "name": "stdout",
     "output_type": "stream",
     "text": [
      "2.9999999999999997e-05\n"
     ]
    },
    {
     "name": "stderr",
     "output_type": "stream",
     "text": [
      "100%|██████████| 1/1 [00:00<00:00,  2.67it/s]\n",
      "05/09/2021 12:10:46 - lib.trainer - INFO - epoch 66 - train_loss: 0.5477. \n",
      "05/09/2021 12:10:46 - lib.trainer - INFO - epoch 66 - eval_loss: 1.5178. accuracy: 0.6500. \n",
      "  0%|          | 0/1 [00:00<?, ?it/s]"
     ]
    },
    {
     "name": "stdout",
     "output_type": "stream",
     "text": [
      "2.9999999999999997e-05\n"
     ]
    },
    {
     "name": "stderr",
     "output_type": "stream",
     "text": [
      "100%|██████████| 1/1 [00:00<00:00,  2.49it/s]\n",
      "05/09/2021 12:10:47 - lib.trainer - INFO - epoch 67 - train_loss: 0.5463. \n",
      "05/09/2021 12:10:47 - lib.trainer - INFO - epoch 67 - eval_loss: 1.5200. accuracy: 0.6500. \n",
      "  0%|          | 0/1 [00:00<?, ?it/s]"
     ]
    },
    {
     "name": "stdout",
     "output_type": "stream",
     "text": [
      "2.9999999999999997e-05\n"
     ]
    },
    {
     "name": "stderr",
     "output_type": "stream",
     "text": [
      "100%|██████████| 1/1 [00:00<00:00,  1.87it/s]\n",
      "05/09/2021 12:10:47 - lib.trainer - INFO - epoch 68 - train_loss: 0.5462. \n",
      "05/09/2021 12:10:48 - lib.trainer - INFO - epoch 68 - eval_loss: 1.5219. accuracy: 0.6500. \n",
      "  0%|          | 0/1 [00:00<?, ?it/s]"
     ]
    },
    {
     "name": "stdout",
     "output_type": "stream",
     "text": [
      "2.9999999999999997e-05\n"
     ]
    },
    {
     "name": "stderr",
     "output_type": "stream",
     "text": [
      "100%|██████████| 1/1 [00:00<00:00,  1.82it/s]\n",
      "05/09/2021 12:10:48 - lib.trainer - INFO - epoch 69 - train_loss: 0.5462. \n",
      "05/09/2021 12:10:48 - lib.trainer - INFO - epoch 69 - eval_loss: 1.5247. accuracy: 0.6500. \n"
     ]
    },
    {
     "name": "stdout",
     "output_type": "stream",
     "text": [
      "2.9999999999999997e-05\n"
     ]
    }
   ],
   "source": [
    "trainer.train()"
   ]
  },
  {
   "cell_type": "code",
   "execution_count": null,
   "id": "08497da1",
   "metadata": {},
   "outputs": [],
   "source": []
  }
 ],
 "metadata": {
  "kernelspec": {
   "display_name": "Python 3",
   "language": "python",
   "name": "python3"
  },
  "language_info": {
   "codemirror_mode": {
    "name": "ipython",
    "version": 3
   },
   "file_extension": ".py",
   "mimetype": "text/x-python",
   "name": "python",
   "nbconvert_exporter": "python",
   "pygments_lexer": "ipython3",
   "version": "3.8.10"
  }
 },
 "nbformat": 4,
 "nbformat_minor": 5
}
